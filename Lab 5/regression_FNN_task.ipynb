{
 "cells": [
  {
   "cell_type": "markdown",
   "id": "43eaf93f",
   "metadata": {
    "id": "43eaf93f"
   },
   "source": [
    "## Lab 5 Solving a regression problem using a FNN (MLP)"
   ]
  },
  {
   "cell_type": "markdown",
   "id": "05d9766c",
   "metadata": {
    "id": "05d9766c"
   },
   "source": [
    "This notebook shows examples of solving regression problems with single and multi-outputs using a FNN model. `problem_code` indicates if a regression problem with single output ( `problem_code = 1`) or a regression problem with multi-outputs  (`problem_code = 2`) is used."
   ]
  },
  {
   "cell_type": "code",
   "execution_count": null,
   "id": "384df817",
   "metadata": {
    "id": "384df817",
    "outputId": "500d37ed-18ce-4570-b585-bd4ad4380bba"
   },
   "outputs": [
    {
     "name": "stdout",
     "output_type": "stream",
     "text": [
      "Input a problem code: problem_code = 1 -- a regression problem with single output, problem_code = 2 -- a regression problem. Your choice: 2\n"
     ]
    }
   ],
   "source": [
    "# Select a problem:  problem_code = 1 for a regression problem with single output or  problem_code = 2 for a regression problem with multi outputs.\n",
    "problem_code = int (input(\"Input a problem code: problem_code = 1 -- a regression problem with single output, problem_code = 2 -- a regression problem. Your choice: \"))"
   ]
  },
  {
   "cell_type": "code",
   "execution_count": null,
   "id": "62ddbf36",
   "metadata": {
    "id": "62ddbf36"
   },
   "outputs": [],
   "source": [
    "# Load dataset and import required packages for a given problem\n",
    "\n",
    "if (problem_code == 1):\n",
    "    '''\n",
    "    Task: Import pandas and give an alias as pd so that we can use pd in code for pandas\n",
    "    '''\n",
    "    \"Add your code here\"\n",
    "\n",
    "\n",
    "    '''\n",
    "    Task: Read a given csv file in the current folder (HousingData.csv) into a dataframe df using method read_csv() from pd.\n",
    "          This method takes two parameters: (1) the csv file name with its path and (2) names, which lists the column names,\n",
    "          such as ['x1','x2','y']\n",
    "    '''\n",
    "    df = \"Add your code here\"\n",
    "    \n",
    "\n",
    "\n",
    "    # Display the dimensions of the dataframe df\n",
    "    print(df.shape)\n",
    "    # Display the first 5 rows of this dataframe df\n",
    "    df.head()\n",
    "    # Create the input data X and target y\n",
    "    X=df.iloc[:, 0:2]\n",
    "    y=df.iloc[:, -1]\n",
    "elif (problem_code == 2):\n",
    "    # Load and return the physical exercise Linnerud dataset.\n",
    "    '''\n",
    "    Task: Import load_linnerud from sklearn.datasets\n",
    "    '''\n",
    "    \"Add your code here\"\n",
    "\n",
    "\n",
    "    '''\n",
    "    Task: Load a dataset linnerud using a method load_linnerud() with parameters: return_X_y=True, as_frame=True to return input data and target\n",
    "    '''\n",
    "    X, y = \"Add yiur code here\"\n",
    "\n",
    "    print(y)\n",
    "else:\n",
    "    print (\"Invalid problem code. Try a correct one: 1 or 2\")"
   ]
  },
  {
   "cell_type": "code",
   "execution_count": null,
   "id": "9aeda6ab",
   "metadata": {
    "id": "9aeda6ab"
   },
   "outputs": [],
   "source": [
    "# Create the train and test datasets using function train_test_split() and import required package\n",
    "'''\n",
    "Task: Import train_test_split from sklearn.model_selection\n",
    "'''\n",
    "\"Add your code here\"\n",
    "\n",
    "\n",
    "'''\n",
    "Task: Split the dataset into train and test datasets using method train_test_split() with four parameters:\n",
    "      (1) X of datasetas,(2) y of dataset, (3) test_size = 0.2 (for 80:20 ratio) and (4) random_state = 42 (Popular integer random seeds are 0 and 42)\n",
    "'''\n",
    "X_train, X_test, y_train, y_test = \"Add your code here\"\n"
   ]
  },
  {
   "cell_type": "code",
   "execution_count": null,
   "id": "3070d1ec",
   "metadata": {
    "id": "3070d1ec",
    "outputId": "e6710221-9d6d-4668-8e6f-d9c56be68613"
   },
   "outputs": [
    {
     "name": "stdout",
     "output_type": "stream",
     "text": [
      "[[ 15. 200.  40.]\n",
      " [  4. 101.  42.]\n",
      " [ 13. 210. 115.]\n",
      " [ 12. 105.  37.]\n",
      " [ 15. 225.  73.]\n",
      " [  4.  60.  25.]\n",
      " [  1.  50.  50.]\n",
      " [ 12. 101. 101.]\n",
      " [ 17. 251. 250.]\n",
      " [  2. 110.  43.]\n",
      " [ 13. 155.  58.]\n",
      " [ 14. 215. 105.]\n",
      " [  6. 125.  40.]\n",
      " [ 17. 120.  38.]\n",
      " [  6.  70.  31.]\n",
      " [  8. 101.  38.]]\n"
     ]
    }
   ],
   "source": [
    "print(X_train.values)"
   ]
  },
  {
   "cell_type": "markdown",
   "id": "8763399f",
   "metadata": {
    "id": "8763399f"
   },
   "source": [
    "### Set aside two futureSample dataset"
   ]
  },
  {
   "cell_type": "code",
   "execution_count": null,
   "id": "d1511b1b",
   "metadata": {
    "id": "d1511b1b"
   },
   "outputs": [],
   "source": [
    "# Create a future sample set from the test dataset\n",
    "futureSample_data= X_test[-2:]\n",
    "futureSample_label= y_test[-2:]"
   ]
  },
  {
   "cell_type": "code",
   "execution_count": null,
   "id": "8fe71b8e",
   "metadata": {
    "id": "8fe71b8e"
   },
   "outputs": [],
   "source": [
    "# Adjust the test dataset after taking the future sample set\n",
    "X_test = X_test[:-2]\n",
    "y_test = y_test[:-2]"
   ]
  },
  {
   "cell_type": "markdown",
   "id": "23bdfe89",
   "metadata": {
    "id": "23bdfe89"
   },
   "source": [
    "### Develop the FNN(MLP) model by training the model using the trainig dataset"
   ]
  },
  {
   "cell_type": "code",
   "execution_count": null,
   "id": "0f08917a",
   "metadata": {
    "id": "0f08917a"
   },
   "outputs": [],
   "source": [
    "# Set parameters for the FNN\n",
    "\n",
    "input_dim = X_train.shape[1]\n",
    "n_neurons_1 = 512\n",
    "n_neurons_2 = 512\n",
    "n_neurons_3 = 100"
   ]
  },
  {
   "cell_type": "code",
   "execution_count": null,
   "id": "ba7c29ad",
   "metadata": {
    "id": "ba7c29ad"
   },
   "outputs": [],
   "source": [
    "# Set up parameters for running the FNN model\n",
    "epochNo = 20\n",
    "batchSize=16"
   ]
  },
  {
   "cell_type": "code",
   "execution_count": null,
   "id": "a7366b8d",
   "metadata": {
    "id": "a7366b8d"
   },
   "outputs": [],
   "source": [
    "# Construct a FNN model and import required packages\n",
    "import tensorflow as tf\n",
    "from tensorflow.keras.layers import Dense, Input\n",
    "\n",
    "model = tf.keras.Sequential()\n",
    "model.add(Input(shape=(input_dim,)))\n",
    "model.add(Dense(n_neurons_1,activation='relu'))\n",
    "model.add(Dense(n_neurons_2,activation='relu'))\n",
    "model.add(Dense(n_neurons_3,activation='relu'))\n",
    "\n",
    "\n",
    "if (problem_code == 1):\n",
    "    '''\n",
    "    Task: Add a Dense layer using method add() with the parameters for the Dense layer: 1\n",
    "    '''\n",
    "    \"Add your code here\"\n",
    "\n",
    "elif (problem_code == 2):\n",
    "    '''\n",
    "    Task: Add a Dense layer using method add() with the parameters for the Dense layer: 3\n",
    "    '''\n",
    "    \"Add your code here\"\n",
    "\n",
    "else:\n",
    "    print(\"Invalid problem code. Try a correct one: 1 or 2\")"
   ]
  },
  {
   "cell_type": "markdown",
   "id": "39b60f71",
   "metadata": {
    "id": "39b60f71"
   },
   "source": [
    "The layers in a NN model can be accessed by attribute \"layers\""
   ]
  },
  {
   "cell_type": "code",
   "execution_count": null,
   "id": "76558f2c",
   "metadata": {
    "colab": {
     "base_uri": "https://localhost:8080/"
    },
    "executionInfo": {
     "elapsed": 5,
     "status": "ok",
     "timestamp": 1689897039318,
     "user": {
      "displayName": "Mingshan Jia",
      "userId": "05917314885843876736"
     },
     "user_tz": -600
    },
    "id": "76558f2c",
    "outputId": "00c942f8-7456-433e-a3fe-704cd7e8caec"
   },
   "outputs": [
    {
     "name": "stdout",
     "output_type": "stream",
     "text": [
      "The model layers is 4: \n"
     ]
    }
   ],
   "source": [
    "# Display the layers in the newly created NN model\n",
    "print ('The model layers is {}: '.format(len(model.layers)))"
   ]
  },
  {
   "cell_type": "code",
   "execution_count": null,
   "id": "0a66b57d",
   "metadata": {
    "id": "0a66b57d"
   },
   "outputs": [],
   "source": [
    "# Compile the constructed model\n",
    "'''\n",
    "Task: Compile the model using method compile() from the model with the parameters: loss='mean_squared_error', optimizer='adam', metrics=['mean_absolute_error']\n",
    "'''\n",
    "model.compile (\"Add your code here\")\n",
    "\n",
    "model.summary()"
   ]
  },
  {
   "cell_type": "code",
   "execution_count": null,
   "id": "976378fd",
   "metadata": {
    "id": "976378fd"
   },
   "outputs": [],
   "source": [
    "# Train the model\n",
    "'''\n",
    "Task: Train the model using method fit() from the model with the parameters:X_train, y_train, epochs=epochNo, batch_size=batchSize, verbose=0\n",
    "'''\n",
    "\"Add your code here\"\n"
   ]
  },
  {
   "cell_type": "code",
   "execution_count": null,
   "id": "86526298",
   "metadata": {
    "id": "86526298"
   },
   "outputs": [],
   "source": [
    "# Predict the output of the test set using method predict() from the model\n",
    "'''\n",
    "Task: Predict the output of the test set using method predict() from the model\n",
    "'''\n",
    "pred = \"Add your code here\"\n"
   ]
  },
  {
   "cell_type": "code",
   "execution_count": null,
   "id": "f861e2d2",
   "metadata": {
    "id": "f861e2d2"
   },
   "outputs": [],
   "source": [
    "# import metrics from sklearn for calculation of evaluation metrics, such as accuracy, precision, recall and f1-score\n",
    "from sklearn import metrics"
   ]
  },
  {
   "cell_type": "code",
   "execution_count": null,
   "id": "54b510c1",
   "metadata": {
    "id": "54b510c1"
   },
   "outputs": [],
   "source": [
    "# Calculate the R2 score using method r2_score() from metrics\n",
    "'''\n",
    "Task: Calculate the R square using method r2_score() from metrics\n",
    "'''\n",
    "r_square_test = \"Add your code here\"\n",
    "\n",
    "print(r_square_test)"
   ]
  },
  {
   "cell_type": "code",
   "execution_count": null,
   "id": "dacd2564",
   "metadata": {
    "id": "dacd2564"
   },
   "outputs": [],
   "source": [
    "# Calculate the mean absolute error of test set using method mean_absolute_error() from metrics\n",
    "'''\n",
    "Task: Calculate the mean absolute error of test set using method mean_absolute_error() from metrics\n",
    "'''\n",
    "mean_absolute_error_test = \"Add your code here\"\n",
    "\n",
    "print(mean_absolute_error_test)"
   ]
  },
  {
   "cell_type": "code",
   "execution_count": null,
   "id": "be9732c4",
   "metadata": {
    "id": "be9732c4"
   },
   "outputs": [],
   "source": [
    "# Calculate the mean squared error of test set using method mean_squared_error() from metrics\n",
    "'''\n",
    "Task: Calculate the mean squared error of test set using method mean_squared_error() from metrics\n",
    "'''\n",
    "mean_squared_error_test = \"Add your code here\"\n",
    "\n",
    "print(mean_squared_error_test)"
   ]
  },
  {
   "cell_type": "code",
   "execution_count": null,
   "id": "44aef844",
   "metadata": {
    "colab": {
     "base_uri": "https://localhost:8080/",
     "height": 449
    },
    "executionInfo": {
     "elapsed": 771,
     "status": "ok",
     "timestamp": 1689897107053,
     "user": {
      "displayName": "Mingshan Jia",
      "userId": "05917314885843876736"
     },
     "user_tz": -600
    },
    "id": "44aef844",
    "outputId": "86c2c92e-09b0-46b2-cb40-3eed0aa6c06b"
   },
   "outputs": [
    {
     "data": {
      "image/png": "[encoded data removed]",
      "text/plain": [
       "<Figure size 432x288 with 1 Axes>"
      ]
     },
     "metadata": {
      "needs_background": "light"
     },
     "output_type": "display_data"
    }
   ],
   "source": [
    "# Present the regression plot and import required packages\n",
    "import matplotlib.pyplot as plt\n",
    "\n",
    "plt.scatter(y_test, pred)\n",
    "plt.xlabel('y_test')\n",
    "plt.ylabel('pred')\n",
    "plt.show()"
   ]
  },
  {
   "cell_type": "code",
   "execution_count": null,
   "id": "82e64ace",
   "metadata": {
    "id": "82e64ace"
   },
   "outputs": [],
   "source": [
    "# Save the trained model\n",
    "\n",
    "model.save(\"model.h5\")"
   ]
  },
  {
   "cell_type": "markdown",
   "id": "c30d464d",
   "metadata": {
    "id": "c30d464d"
   },
   "source": [
    "### Predict the class for the data samples in the future sample set\n"
   ]
  },
  {
   "cell_type": "markdown",
   "id": "8185f508",
   "metadata": {
    "id": "8185f508"
   },
   "source": [
    "Use the futureSample_data to simulate a real-world application scenario."
   ]
  },
  {
   "cell_type": "code",
   "execution_count": null,
   "id": "338dd0a4",
   "metadata": {
    "id": "338dd0a4"
   },
   "outputs": [],
   "source": [
    "# Load the saved model and import required packages\n",
    "\n",
    "from tensorflow.keras.models import load_model\n",
    "\n",
    "loaded_model = load_model('model.h5')"
   ]
  },
  {
   "cell_type": "code",
   "execution_count": null,
   "id": "0615afd6",
   "metadata": {
    "colab": {
     "base_uri": "https://localhost:8080/"
    },
    "executionInfo": {
     "elapsed": 19,
     "status": "ok",
     "timestamp": 1689897116131,
     "user": {
      "displayName": "Mingshan Jia",
      "userId": "05917314885843876736"
     },
     "user_tz": -600
    },
    "id": "0615afd6",
    "outputId": "656a2571-9158-429a-c534-f7dd401de0f9"
   },
   "outputs": [
    {
     "name": "stdout",
     "output_type": "stream",
     "text": [
      "Model: \"sequential\"\n",
      "_________________________________________________________________\n",
      " Layer (type)                Output Shape              Param #   \n",
      "=================================================================\n",
      " dense (Dense)               (None, 512)               2048      \n",
      "                                                                 \n",
      " dense_1 (Dense)             (None, 512)               262656    \n",
      "                                                                 \n",
      " dense_2 (Dense)             (None, 100)               51300     \n",
      "                                                                 \n",
      " dense_3 (Dense)             (None, 3)                 303       \n",
      "                                                                 \n",
      "=================================================================\n",
      "Total params: 316,307\n",
      "Trainable params: 316,307\n",
      "Non-trainable params: 0\n",
      "_________________________________________________________________\n"
     ]
    }
   ],
   "source": [
    "# Display the summary of the loaded model\n",
    "loaded_model.summary()"
   ]
  },
  {
   "cell_type": "code",
   "execution_count": null,
   "id": "1b4300a0",
   "metadata": {
    "id": "1b4300a0"
   },
   "outputs": [],
   "source": [
    "# Predict the output for the future samples using method predict() from the loaded model, loaded_model\n",
    "'''\n",
    "Task: predict the output for the future samples using method predict() from the loaded model, loaded_model\n",
    "'''\n",
    "preds_future = \"Add your code here\"\n"
   ]
  },
  {
   "cell_type": "code",
   "execution_count": null,
   "id": "33b57c15",
   "metadata": {
    "id": "33b57c15",
    "outputId": "88d492a2-89ac-4845-d786-e948aa3742d1"
   },
   "outputs": [
    {
     "name": "stdout",
     "output_type": "stream",
     "text": [
      "The future data is [ 12. 210. 120.], the predicted value is [243.0905    47.936996  82.04889 ] and the acutal value is [202.  37.  62.]\n",
      "The future data is [  2. 110.  60.], the predicted value is [126.22183   24.874699  42.892902] and the acutal value is [189.  37.  52.]\n"
     ]
    }
   ],
   "source": [
    "for i in range(2):\n",
    "    print(\"The future data is {}, the predicted value is {} and the acutal value is {}\".format(futureSample_data.values[i],preds_future[i],futureSample_label.values[i]))"
   ]
  },
  {
   "cell_type": "code",
   "execution_count": null,
   "id": "3305c1db",
   "metadata": {
    "id": "3305c1db"
   },
   "outputs": [],
   "source": []
  }
 ],
 "metadata": {
  "colab": {
   "provenance": []
  },
  "kernelspec": {
   "display_name": "Python 3 (ipykernel)",
   "language": "python",
   "name": "python3"
  },
  "language_info": {
   "codemirror_mode": {
    "name": "ipython",
    "version": 3
   },
   "file_extension": ".py",
   "mimetype": "text/x-python",
   "name": "python",
   "nbconvert_exporter": "python",
   "pygments_lexer": "ipython3",
   "version": "3.9.12"
  },
  "pycharm": {
   "stem_cell": {
    "cell_type": "raw",
    "metadata": {
     "collapsed": false
    },
    "source": []
   }
  },
  "vp": {
   "vp_config_version": "1.0.0",
   "vp_menu_width": 273,
   "vp_note_display": false,
   "vp_note_width": 0,
   "vp_position": {
    "width": 278
   },
   "vp_section_display": false,
   "vp_signature": "VisualPython"
  }
 },
 "nbformat": 4,
 "nbformat_minor": 5
}
