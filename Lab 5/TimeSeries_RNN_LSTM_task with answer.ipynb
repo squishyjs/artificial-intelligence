{
 "cells": [
  {
   "cell_type": "code",
   "execution_count": null,
   "metadata": {
    "id": "Kyh3ZxB-URfO"
   },
   "outputs": [],
   "source": [
    "from google.colab import drive\n",
    "drive.mount('/content/drive')"
   ]
  },
  {
   "cell_type": "code",
   "execution_count": null,
   "metadata": {
    "id": "dUoRbIMiUTt_"
   },
   "outputs": [],
   "source": [
    "cd /content/drive/MyDrive/Lab 2023/Lab 5"
   ]
  },
  {
   "cell_type": "markdown",
   "metadata": {
    "id": "qnM-mzLMt_52"
   },
   "source": [
    "This is an example of using RNN and LSTM to predict the next value in a time series."
   ]
  },
  {
   "cell_type": "code",
   "execution_count": null,
   "metadata": {
    "id": "vw3Bq9dmHp-u"
   },
   "outputs": [],
   "source": [
    "# Import pandas and give it an alias pd\n",
    "import pandas as pd"
   ]
  },
  {
   "cell_type": "code",
   "execution_count": null,
   "metadata": {
    "id": "HLDGKMKnHnBN"
   },
   "outputs": [],
   "source": [
    "dataframe = pd.read_csv('airline-passengers.csv', usecols=[1], engine='python')\n",
    "dataset = dataframe.values\n",
    "dataset = dataset.astype('float32')"
   ]
  },
  {
   "cell_type": "code",
   "execution_count": null,
   "metadata": {
    "id": "rN_8aG8kHnBN"
   },
   "outputs": [],
   "source": [
    "# plot dataset and required packages\n",
    "import matplotlib.pyplot as plt\n",
    "\n",
    "plt.plot(dataset)\n",
    "plt.show()"
   ]
  },
  {
   "cell_type": "code",
   "execution_count": null,
   "metadata": {
    "id": "OUmgLR14t_6N"
   },
   "outputs": [],
   "source": [
    "# normalize the dataset and import required packages\n",
    "from sklearn.preprocessing import MinMaxScaler\n",
    "\n",
    "scaler = MinMaxScaler(feature_range=(0, 1))\n",
    "dataset = scaler.fit_transform(dataset)"
   ]
  },
  {
   "cell_type": "code",
   "execution_count": null,
   "metadata": {
    "id": "DbaTiVkqt_6O"
   },
   "outputs": [],
   "source": [
    "# split the dataset into train and test sets ( maintaining the temporal order of the data)\n",
    "train_ratio = 0.67\n",
    "train_size = int(len(dataset) * train_ratio)\n",
    "test_size = len(dataset) - train_size\n",
    "train, test = dataset[0:train_size,:], dataset[train_size:len(dataset),:]\n",
    "'''\n",
    "Task: After you run this notebook successfuly, change train_ratio to be 0.80, and run the notebook again, record the evaluation metrics and then compare the results\n",
    "'''"
   ]
  },
  {
   "cell_type": "code",
   "execution_count": null,
   "metadata": {
    "id": "oHiYFx3XHnBO"
   },
   "outputs": [],
   "source": [
    "# print the sizes of train and test sets\n",
    "print(len(train), len(test))"
   ]
  },
  {
   "cell_type": "code",
   "execution_count": null,
   "metadata": {
    "id": "lih2_cbot_6Q"
   },
   "outputs": [],
   "source": [
    "# The create_dataset function is used to transform a given dataset into a format that's suitable for time series forecasting.\n",
    "# The look_back parameter specifies how many previous steps to use as input features for the prediction at the next time step.\n",
    "# For example, when we have a dataset = [[1], [2], [3], [4], [5], [6]] and look_back is 1,\n",
    "# dataX will be [[1], [2], [3], [4], [5]]\n",
    "# dataY will be [2, 3, 4, 5, 6]\n",
    "# So the model will be trained to predict 2 given [1], 3 given [2], 4 given [3], 5 given [4], and 6 given [5].\n",
    "\n",
    "# import the required package\n",
    "import numpy as np\n",
    "\n",
    "def create_dataset(dataset, look_back=1):\n",
    "    dataX, dataY = [], []\n",
    "    for i in range(len(dataset)-look_back-1):\n",
    "        a = dataset[i:(i+look_back), 0]\n",
    "        dataX.append(a)\n",
    "        b = dataset[i + look_back, 0]\n",
    "        dataY.append(b)\n",
    "    return np.array(dataX), np.array(dataY)"
   ]
  },
  {
   "cell_type": "code",
   "execution_count": null,
   "metadata": {
    "id": "UKYsIiVIt_6Q"
   },
   "outputs": [],
   "source": [
    "# reshape into X=t and Y=t+1\n",
    "look_back = 1\n",
    "trainX, trainY = create_dataset(train, look_back)\n",
    "testX, testY = create_dataset(test, look_back)"
   ]
  },
  {
   "cell_type": "code",
   "execution_count": null,
   "metadata": {
    "id": "Crn35Mt4HnBO"
   },
   "outputs": [],
   "source": [
    "for i in range (len(trainX)):\n",
    "    print(trainX[i], trainY[i])"
   ]
  },
  {
   "cell_type": "code",
   "execution_count": null,
   "metadata": {
    "id": "jRiMfqKNt_6R"
   },
   "outputs": [],
   "source": [
    "# reshape input to be [samples, time steps, features]\n",
    "trainX = np.reshape(trainX, (trainX.shape[0], 1, trainX.shape[1]))\n",
    "testX = np.reshape(testX, (testX.shape[0], 1, testX.shape[1]))"
   ]
  },
  {
   "cell_type": "markdown",
   "metadata": {
    "id": "Wfo33W4hHnBO"
   },
   "source": [
    "Input a model code, `model_code = 1` for RNN and `model_code = 2` for LSTM."
   ]
  },
  {
   "cell_type": "code",
   "execution_count": null,
   "metadata": {
    "id": "ToFDe2pwHnBO"
   },
   "outputs": [],
   "source": [
    " model_code = int(input(\"Input a model code, model_code = 1 for RNN and model_code = 2 for LSTM. Your choice: \"))"
   ]
  },
  {
   "cell_type": "code",
   "execution_count": null,
   "metadata": {
    "id": "nQRLvl4eHnBO"
   },
   "outputs": [],
   "source": [
    "# Set up parameters for running the model\n",
    "epochNo = 100\n",
    "batchSize = 1"
   ]
  },
  {
   "cell_type": "code",
   "execution_count": null,
   "metadata": {
    "id": "1Nn5wWasHnBP"
   },
   "outputs": [],
   "source": [
    "# create and fit the RNN or LSTM network\n",
    "# import required packages\n",
    "import tensorflow as tf\n",
    "from tensorflow.keras.layers import Dense\n",
    "\n",
    "if (model_code == 1):\n",
    "    '''\n",
    "    Task: import SimpleRNN from tensorflow.keras.layers for using RNN model\n",
    "    '''\n",
    "    \"Add your code here\"\n",
    "    \n",
    "    # Answer\n",
    "    from tensorflow.keras.layers import SimpleRNN\n",
    "\n",
    "\n",
    "    model = tf.keras.Sequential()\n",
    "    '''\n",
    "    Task: Add a SimpleRNN layer using method add() with parameters: (4,input_shape=(1, look_back)) for the SimpleRNN layer\n",
    "    '''\n",
    "    \"Add your code here\"\n",
    "    \n",
    "    # Answer\n",
    "    model.add(SimpleRNN(4,input_shape=(1, look_back)))\n",
    "\n",
    "\n",
    "    model.add(Dense(1))\n",
    "    '''\n",
    "    Task: Compile the model using method compile() from the model with parameters: loss='mean_squared_error', optimizer='adam'\n",
    "    '''\n",
    "    \"Add your code here\"\n",
    "    \n",
    "    # Answer\n",
    "    model.compile(loss='mean_squared_error', optimizer='adam')\n",
    "\n",
    "\n",
    "    '''\n",
    "    Task: Train the model using method fit() from the model with the tran dataset, epochs=epochNo, batch_size=batchSize, verbose=2\n",
    "    '''\n",
    "    \"Add your code here\"\n",
    "    \n",
    "    # Answer\n",
    "    model.fit(trainX, trainY, epochs=epochNo, batch_size=batchSize, verbose=2)\n",
    "\n",
    "elif (model_code == 2):\n",
    "    '''\n",
    "    Task: import LSTM from tensorflow.keras.layers for using LSTM model\n",
    "    '''\n",
    "    \"Add your code here\"\n",
    "    \n",
    "    # Answer\n",
    "    from tensorflow.keras.layers import LSTM\n",
    "\n",
    "\n",
    "    model =tf.keras.Sequential()\n",
    "    '''\n",
    "    Task: Add a LSTM layer using method add() with parameters: (4, input_shape=(1, look_back)) for the LSTM layer\n",
    "    '''\n",
    "    \"Add your code here\"\n",
    "    \n",
    "    # Answer\n",
    "    model.add(LSTM(4, input_shape=(1, look_back)))\n",
    "\n",
    "\n",
    "    model.add(Dense(1))\n",
    "    \n",
    "    '''\n",
    "    Task: Compile the model using method compile() from the model with parameters: loss='mean_squared_error', optimizer='adam'\n",
    "    '''\n",
    "    \"Add your code here\"\n",
    "    \n",
    "    # Answer\n",
    "    model.compile(loss='mean_squared_error', optimizer='adam')\n",
    "  \n",
    "    '''\n",
    "    Task: Train the model using method fit() from the model with the tran dataset, epochs=epochNo, batch_size=batchSize, verbose=2\n",
    "    '''\n",
    "    \"Add your code here\"\n",
    "    \n",
    "    # ANswer\n",
    "    model.fit(trainX, trainY, epochs=epochNo, batch_size=batchSize, verbose=2)\n",
    "\n",
    "else:\n",
    "    print(\"invalid model code, try a correct code, 1 or 2\")"
   ]
  },
  {
   "cell_type": "code",
   "execution_count": null,
   "metadata": {
    "id": "Dv34z8jFt_6S"
   },
   "outputs": [],
   "source": [
    "# make predictions of train set\n",
    "trainPredict = model.predict(trainX)"
   ]
  },
  {
   "cell_type": "code",
   "execution_count": null,
   "metadata": {
    "id": "e-yrkm7hR1Xs"
   },
   "outputs": [],
   "source": [
    "# invert predictions\n",
    "trainPredict = scaler.inverse_transform(trainPredict)\n",
    "trainY = scaler.inverse_transform([trainY])"
   ]
  },
  {
   "cell_type": "code",
   "execution_count": null,
   "metadata": {
    "id": "9aRbaFT4HnBP"
   },
   "outputs": [],
   "source": [
    "# make predictions of test set\n",
    "testPredict = model.predict(testX)"
   ]
  },
  {
   "cell_type": "code",
   "execution_count": null,
   "metadata": {
    "id": "1tW5voSPHnBP"
   },
   "outputs": [],
   "source": [
    "# invert predictions\n",
    "testPredict = scaler.inverse_transform(testPredict)\n",
    "testY = scaler.inverse_transform([testY])"
   ]
  },
  {
   "cell_type": "code",
   "execution_count": null,
   "metadata": {
    "id": "7Ti0vLNRR1Xs"
   },
   "outputs": [],
   "source": [
    "# calculate root mean squared error and import required package\n",
    "from sklearn.metrics import mean_squared_error\n",
    "\n",
    "trainScore = np.sqrt(mean_squared_error(trainY[0], trainPredict[:,0]))\n",
    "print('Train Score: %.2f RMSE' % (trainScore))\n",
    "testScore = np.sqrt(mean_squared_error(testY[0], testPredict[:,0]))\n",
    "print('Test Score: %.2f RMSE' % (testScore))"
   ]
  },
  {
   "cell_type": "code",
   "execution_count": null,
   "metadata": {
    "id": "Icpw3I9et_6S"
   },
   "outputs": [],
   "source": [
    "# shift train predictions for plotting\n",
    "trainPredictPlot = np.empty_like(dataset)\n",
    "trainPredictPlot[:, :] = np.nan\n",
    "trainPredictPlot[look_back:len(trainPredict)+look_back, :] = trainPredict\n",
    "\n",
    "# shift test predictions for plotting\n",
    "testPredictPlot = np.empty_like(dataset)\n",
    "testPredictPlot[:, :] = np.nan\n",
    "testPredictPlot[len(trainPredict)+(look_back*2)+1:len(dataset)-1, :] = testPredict\n",
    "\n",
    "# plot baseline and predictions\n",
    "plt.plot(scaler.inverse_transform(dataset))\n",
    "plt.plot(trainPredictPlot)\n",
    "plt.plot(testPredictPlot)\n",
    "plt.show()"
   ]
  },
  {
   "cell_type": "code",
   "execution_count": null,
   "metadata": {
    "id": "ddZR1JJzuOz6"
   },
   "outputs": [],
   "source": []
  }
 ],
 "metadata": {
  "accelerator": "GPU",
  "colab": {
   "provenance": []
  },
  "gpuClass": "standard",
  "kernelspec": {
   "display_name": "Python 3 (ipykernel)",
   "language": "python",
   "name": "python3"
  },
  "language_info": {
   "codemirror_mode": {
    "name": "ipython",
    "version": 3
   },
   "file_extension": ".py",
   "mimetype": "text/x-python",
   "name": "python",
   "nbconvert_exporter": "python",
   "pygments_lexer": "ipython3",
   "version": "3.9.12"
  }
 },
 "nbformat": 4,
 "nbformat_minor": 1
}
