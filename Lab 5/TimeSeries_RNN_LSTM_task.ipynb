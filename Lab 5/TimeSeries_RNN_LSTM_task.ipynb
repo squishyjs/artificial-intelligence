{
 "cells": [
  {
   "cell_type": "code",
   "execution_count": null,
   "metadata": {
    "id": "Kyh3ZxB-URfO"
   },
   "outputs": [],
   "source": [
    "from google.colab import drive\n",
    "drive.mount('/content/drive')"
   ]
  },
  {
   "cell_type": "code",
   "execution_count": null,
   "metadata": {
    "id": "dUoRbIMiUTt_"
   },
   "outputs": [],
   "source": [
    "cd /content/drive/MyDrive/Lab 2023/Lab 5"
   ]
  },
  {
   "cell_type": "markdown",
   "metadata": {
    "id": "qnM-mzLMt_52"
   },
   "source": [
    "This is an example of using RNN and LSTM to predict the next value in a time series."
   ]
  },
  {
   "cell_type": "code",
   "execution_count": 1,
   "metadata": {
    "id": "vw3Bq9dmHp-u"
   },
   "outputs": [],
   "source": [
    "# Import pandas and give it an alias pd\n",
    "import pandas as pd"
   ]
  },
  {
   "cell_type": "code",
   "execution_count": 2,
   "metadata": {
    "id": "HLDGKMKnHnBN"
   },
   "outputs": [],
   "source": [
    "dataframe = pd.read_csv('airline-passengers.csv', usecols=[1], engine='python')\n",
    "dataset = dataframe.values\n",
    "dataset = dataset.astype('float32')"
   ]
  },
  {
   "cell_type": "code",
   "execution_count": 3,
   "metadata": {
    "id": "rN_8aG8kHnBN"
   },
   "outputs": [
    {
     "data": {
      "image/png": "[encoded data removed]",
      "text/plain": [
       "<Figure size 432x288 with 1 Axes>"
      ]
     },
     "metadata": {
      "needs_background": "light"
     },
     "output_type": "display_data"
    }
   ],
   "source": [
    "# plot dataset and required packages\n",
    "import matplotlib.pyplot as plt\n",
    "\n",
    "plt.plot(dataset)\n",
    "plt.show()"
   ]
  },
  {
   "cell_type": "code",
   "execution_count": 4,
   "metadata": {
    "id": "OUmgLR14t_6N"
   },
   "outputs": [
    {
     "name": "stderr",
     "output_type": "stream",
     "text": [
      "C:\\ProgramData\\Anaconda3\\lib\\site-packages\\scipy\\__init__.py:146: UserWarning: A NumPy version >=1.16.5 and <1.23.0 is required for this version of SciPy (detected version 1.26.0\n",
      "  warnings.warn(f\"A NumPy version >={np_minversion} and <{np_maxversion}\"\n"
     ]
    }
   ],
   "source": [
    "# normalize the dataset and import required packages\n",
    "from sklearn.preprocessing import MinMaxScaler\n",
    "\n",
    "scaler = MinMaxScaler(feature_range=(0, 1))\n",
    "dataset = scaler.fit_transform(dataset)"
   ]
  },
  {
   "cell_type": "code",
   "execution_count": 5,
   "metadata": {
    "id": "DbaTiVkqt_6O"
   },
   "outputs": [
    {
     "data": {
      "text/plain": [
       "'\\nTask: After you run this notebook successfuly, change train_ratio to be 0.80, and run the notebook again, record the evaluation metrics and then compare the results\\n'"
      ]
     },
     "execution_count": 5,
     "metadata": {},
     "output_type": "execute_result"
    }
   ],
   "source": [
    "# split the dataset into train and test sets ( maintaining the temporal order of the data)\n",
    "train_ratio = 0.67\n",
    "train_size = int(len(dataset) * train_ratio)\n",
    "test_size = len(dataset) - train_size\n",
    "train, test = dataset[0:train_size,:], dataset[train_size:len(dataset),:]\n",
    "'''\n",
    "Task: After you run this notebook successfuly, change train_ratio to be 0.80, and run the notebook again, record the evaluation metrics and then compare the results\n",
    "'''"
   ]
  },
  {
   "cell_type": "code",
   "execution_count": 6,
   "metadata": {
    "id": "oHiYFx3XHnBO"
   },
   "outputs": [
    {
     "name": "stdout",
     "output_type": "stream",
     "text": [
      "96 48\n"
     ]
    }
   ],
   "source": [
    "# print the sizes of train and test sets\n",
    "print(len(train), len(test))"
   ]
  },
  {
   "cell_type": "code",
   "execution_count": 7,
   "metadata": {
    "id": "lih2_cbot_6Q"
   },
   "outputs": [],
   "source": [
    "# The create_dataset function is used to transform a given dataset into a format that's suitable for time series forecasting.\n",
    "# The look_back parameter specifies how many previous steps to use as input features for the prediction at the next time step.\n",
    "# For example, when we have a dataset = [[1], [2], [3], [4], [5], [6]] and look_back is 1,\n",
    "# dataX will be [[1], [2], [3], [4], [5]]\n",
    "# dataY will be [2, 3, 4, 5, 6]\n",
    "# So the model will be trained to predict 2 given [1], 3 given [2], 4 given [3], 5 given [4], and 6 given [5].\n",
    "\n",
    "# import the required package\n",
    "import numpy as np\n",
    "\n",
    "def create_dataset(dataset, look_back=1):\n",
    "    dataX, dataY = [], []\n",
    "    for i in range(len(dataset)-look_back-1):\n",
    "        a = dataset[i:(i+look_back), 0]\n",
    "        dataX.append(a)\n",
    "        b = dataset[i + look_back, 0]\n",
    "        dataY.append(b)\n",
    "    return np.array(dataX), np.array(dataY)"
   ]
  },
  {
   "cell_type": "code",
   "execution_count": 8,
   "metadata": {
    "id": "UKYsIiVIt_6Q"
   },
   "outputs": [],
   "source": [
    "# reshape into X=t and Y=t+1\n",
    "look_back = 1\n",
    "trainX, trainY = create_dataset(train, look_back)\n",
    "testX, testY = create_dataset(test, look_back)"
   ]
  },
  {
   "cell_type": "code",
   "execution_count": 9,
   "metadata": {
    "id": "Crn35Mt4HnBO"
   },
   "outputs": [
    {
     "name": "stdout",
     "output_type": "stream",
     "text": [
      "[0.01544401] 0.027027026\n",
      "[0.02702703] 0.05405405\n",
      "[0.05405405] 0.04826255\n",
      "[0.04826255] 0.032818526\n",
      "[0.03281853] 0.059845567\n",
      "[0.05984557] 0.08494207\n",
      "[0.08494207] 0.08494207\n",
      "[0.08494207] 0.06177607\n",
      "[0.06177607] 0.02895753\n",
      "[0.02895753] 0.0\n",
      "[0.] 0.027027026\n",
      "[0.02702703] 0.021235526\n",
      "[0.02123553] 0.042471036\n",
      "[0.04247104] 0.07142857\n",
      "[0.07142857] 0.059845567\n",
      "[0.05984557] 0.040540546\n",
      "[0.04054055] 0.08687258\n",
      "[0.08687258] 0.12741312\n",
      "[0.12741312] 0.12741312\n",
      "[0.12741312] 0.10424709\n",
      "[0.10424709] 0.055984557\n",
      "[0.05598456] 0.01930502\n",
      "[0.01930502] 0.06949806\n",
      "[0.06949806] 0.07915059\n",
      "[0.07915059] 0.08880308\n",
      "[0.08880308] 0.14285713\n",
      "[0.14285713] 0.11389962\n",
      "[0.11389962] 0.13127413\n",
      "[0.13127413] 0.14285713\n",
      "[0.14285713] 0.18339768\n",
      "[0.18339768] 0.18339768\n",
      "[0.18339768] 0.15444016\n",
      "[0.15444016] 0.11196911\n",
      "[0.11196911] 0.08108109\n",
      "[0.08108109] 0.1196911\n",
      "[0.1196911] 0.12934363\n",
      "[0.12934363] 0.14671814\n",
      "[0.14671814] 0.17181468\n",
      "[0.17181468] 0.14864865\n",
      "[0.14864865] 0.15250966\n",
      "[0.15250966] 0.22007722\n",
      "[0.22007722] 0.24324325\n",
      "[0.24324325] 0.26640925\n",
      "[0.26640925] 0.2027027\n",
      "[0.2027027] 0.16795367\n",
      "[0.16795367] 0.13127413\n",
      "[0.13127413] 0.17374519\n",
      "[0.17374519] 0.17760617\n",
      "[0.17760617] 0.17760617\n",
      "[0.17760617] 0.25482625\n",
      "[0.25482625] 0.25289574\n",
      "[0.25289574] 0.24131274\n",
      "[0.24131274] 0.26833975\n",
      "[0.26833975] 0.3088803\n",
      "[0.3088803] 0.32432434\n",
      "[0.32432434] 0.25675675\n",
      "[0.25675675] 0.20656371\n",
      "[0.20656371] 0.14671814\n",
      "[0.14671814] 0.18725869\n",
      "[0.18725869] 0.19305018\n",
      "[0.19305018] 0.16216215\n",
      "[0.16216215] 0.25289574\n",
      "[0.25289574] 0.23745173\n",
      "[0.23745173] 0.25096524\n",
      "[0.25096524] 0.3088803\n",
      "[0.3088803] 0.38223937\n",
      "[0.38223937] 0.36486486\n",
      "[0.36486486] 0.2992278\n",
      "[0.2992278] 0.24131274\n",
      "[0.24131274] 0.1911197\n",
      "[0.1911197] 0.24131274\n",
      "[0.24131274] 0.26640925\n",
      "[0.26640925] 0.24903473\n",
      "[0.24903473] 0.31467178\n",
      "[0.31467178] 0.3185328\n",
      "[0.3185328] 0.32046333\n",
      "[0.32046333] 0.4073359\n",
      "[0.4073359] 0.5019305\n",
      "[0.5019305] 0.46911195\n",
      "[0.46911195] 0.40154442\n",
      "[0.40154442] 0.32818535\n",
      "[0.32818535] 0.25675675\n",
      "[0.25675675] 0.3359073\n",
      "[0.3359073] 0.34749034\n",
      "[0.34749034] 0.33397684\n",
      "[0.33397684] 0.41119692\n",
      "[0.41119692] 0.4034749\n",
      "[0.4034749] 0.4131274\n",
      "[0.4131274] 0.52123547\n",
      "[0.52123547] 0.5965251\n",
      "[0.5965251] 0.58108103\n",
      "[0.58108103] 0.484556\n",
      "[0.484556] 0.3899614\n",
      "[0.3899614] 0.3223938\n"
     ]
    }
   ],
   "source": [
    "for i in range (len(trainX)):\n",
    "    print(trainX[i], trainY[i])"
   ]
  },
  {
   "cell_type": "code",
   "execution_count": 10,
   "metadata": {
    "id": "jRiMfqKNt_6R"
   },
   "outputs": [],
   "source": [
    "# reshape input to be [samples, time steps, features]\n",
    "trainX = np.reshape(trainX, (trainX.shape[0], 1, trainX.shape[1]))\n",
    "testX = np.reshape(testX, (testX.shape[0], 1, testX.shape[1]))"
   ]
  },
  {
   "cell_type": "markdown",
   "metadata": {
    "id": "Wfo33W4hHnBO"
   },
   "source": [
    "Input a model code, `model_code = 1` for RNN and `model_code = 2` for LSTM."
   ]
  },
  {
   "cell_type": "code",
   "execution_count": 11,
   "metadata": {
    "id": "ToFDe2pwHnBO"
   },
   "outputs": [
    {
     "name": "stdout",
     "output_type": "stream",
     "text": [
      "Input a model code, model_code = 1 for RNN and model_code = 2 for LSTM. Your choice: 2\n"
     ]
    }
   ],
   "source": [
    " model_code = int(input(\"Input a model code, model_code = 1 for RNN and model_code = 2 for LSTM. Your choice: \"))"
   ]
  },
  {
   "cell_type": "code",
   "execution_count": 12,
   "metadata": {
    "id": "nQRLvl4eHnBO"
   },
   "outputs": [],
   "source": [
    "# Set up parameters for running the model\n",
    "epochNo = 100\n",
    "batchSize = 1"
   ]
  },
  {
   "cell_type": "code",
   "execution_count": null,
   "metadata": {
    "id": "1Nn5wWasHnBP"
   },
   "outputs": [],
   "source": [
    "# create and fit the RNN or LSTM network\n",
    "# import required packages\n",
    "import tensorflow as tf\n",
    "from tensorflow.keras.layers import Dense\n",
    "\n",
    "if (model_code == 1):\n",
    "    '''\n",
    "    Task: import SimpleRNN from tensorflow.keras.layers for using RNN model\n",
    "    '''\n",
    "    \"Add your code here\"\n",
    "\n",
    "\n",
    "    model = tf.keras.Sequential()\n",
    "    '''\n",
    "    Task: Add a SimpleRNN layer using method add() with parameters: (4,input_shape=(1, look_back)) for the SimpleRNN layer\n",
    "    '''\n",
    "    \"Add your code here\"\n",
    "    \n",
    "\n",
    "    model.add(Dense(1))\n",
    "    '''\n",
    "    Task: Compile the model using method compile() from the model with parameters: loss='mean_squared_error', optimizer='adam'\n",
    "    '''\n",
    "    \"Add your code here\"\n",
    "\n",
    "\n",
    "    '''\n",
    "    Task: Train the model using method fit() from the model with the tran dataset, epochs=epochNo, batch_size=batchSize, verbose=2\n",
    "    '''\n",
    "    \"Add your code here\"\n",
    "\n",
    "elif (model_code == 2):\n",
    "    '''\n",
    "    Task: import LSTM from tensorflow.keras.layers for using LSTM model\n",
    "    '''\n",
    "    \"Add your code here\"\n",
    "\n",
    "    model =tf.keras.Sequential()\n",
    "    '''\n",
    "    Task: Add a LSTM layer using method add() with parameters: (4, input_shape=(1, look_back)) for the LSTM layer\n",
    "    '''\n",
    "    \"Add your code here\"\n",
    "\n",
    "    model.add(Dense(1))\n",
    "    \n",
    "    '''\n",
    "    Task: Compile the model using method compile() from the model with parameters: loss='mean_squared_error', optimizer='adam'\n",
    "    '''\n",
    "    \"Add your code here\"\n",
    "  \n",
    "    '''\n",
    "    Task: Train the model using method fit() from the model with the tran dataset, epochs=epochNo, batch_size=batchSize, verbose=2\n",
    "    '''\n",
    "    \"Add your code here\"\n",
    "\n",
    "else:\n",
    "    print(\"invalid model code, try a correct code, 1 or 2\")"
   ]
  },
  {
   "cell_type": "code",
   "execution_count": 14,
   "metadata": {
    "id": "Dv34z8jFt_6S"
   },
   "outputs": [
    {
     "name": "stdout",
     "output_type": "stream",
     "text": [
      "3/3 [==============================] - 1s 4ms/step\n"
     ]
    }
   ],
   "source": [
    "# make predictions of train set\n",
    "trainPredict = model.predict(trainX)"
   ]
  },
  {
   "cell_type": "code",
   "execution_count": 15,
   "metadata": {
    "id": "e-yrkm7hR1Xs"
   },
   "outputs": [],
   "source": [
    "# invert predictions\n",
    "trainPredict = scaler.inverse_transform(trainPredict)\n",
    "trainY = scaler.inverse_transform([trainY])"
   ]
  },
  {
   "cell_type": "code",
   "execution_count": 16,
   "metadata": {
    "id": "9aRbaFT4HnBP"
   },
   "outputs": [
    {
     "name": "stdout",
     "output_type": "stream",
     "text": [
      "2/2 [==============================] - 0s 0s/step\n"
     ]
    }
   ],
   "source": [
    "# make predictions of test set\n",
    "testPredict = model.predict(testX)"
   ]
  },
  {
   "cell_type": "code",
   "execution_count": 17,
   "metadata": {
    "id": "1tW5voSPHnBP"
   },
   "outputs": [],
   "source": [
    "# invert predictions\n",
    "testPredict = scaler.inverse_transform(testPredict)\n",
    "testY = scaler.inverse_transform([testY])"
   ]
  },
  {
   "cell_type": "code",
   "execution_count": 18,
   "metadata": {
    "id": "7Ti0vLNRR1Xs"
   },
   "outputs": [
    {
     "name": "stdout",
     "output_type": "stream",
     "text": [
      "Train Score: 22.63 RMSE\n",
      "Test Score: 50.43 RMSE\n"
     ]
    }
   ],
   "source": [
    "# calculate root mean squared error and import required package\n",
    "from sklearn.metrics import mean_squared_error\n",
    "\n",
    "trainScore = np.sqrt(mean_squared_error(trainY[0], trainPredict[:,0]))\n",
    "print('Train Score: %.2f RMSE' % (trainScore))\n",
    "testScore = np.sqrt(mean_squared_error(testY[0], testPredict[:,0]))\n",
    "print('Test Score: %.2f RMSE' % (testScore))"
   ]
  },
  {
   "cell_type": "code",
   "execution_count": 19,
   "metadata": {
    "id": "Icpw3I9et_6S"
   },
   "outputs": [
    {
     "data": {
      "image/png": "[encoded data removed]",
      "text/plain": [
       "<Figure size 432x288 with 1 Axes>"
      ]
     },
     "metadata": {
      "needs_background": "light"
     },
     "output_type": "display_data"
    }
   ],
   "source": [
    "# shift train predictions for plotting\n",
    "trainPredictPlot = np.empty_like(dataset)\n",
    "trainPredictPlot[:, :] = np.nan\n",
    "trainPredictPlot[look_back:len(trainPredict)+look_back, :] = trainPredict\n",
    "\n",
    "# shift test predictions for plotting\n",
    "testPredictPlot = np.empty_like(dataset)\n",
    "testPredictPlot[:, :] = np.nan\n",
    "testPredictPlot[len(trainPredict)+(look_back*2)+1:len(dataset)-1, :] = testPredict\n",
    "\n",
    "# plot baseline and predictions\n",
    "plt.plot(scaler.inverse_transform(dataset))\n",
    "plt.plot(trainPredictPlot)\n",
    "plt.plot(testPredictPlot)\n",
    "plt.show()"
   ]
  },
  {
   "cell_type": "code",
   "execution_count": null,
   "metadata": {
    "id": "ddZR1JJzuOz6"
   },
   "outputs": [],
   "source": []
  }
 ],
 "metadata": {
  "accelerator": "GPU",
  "colab": {
   "provenance": []
  },
  "gpuClass": "standard",
  "kernelspec": {
   "display_name": "Python 3 (ipykernel)",
   "language": "python",
   "name": "python3"
  },
  "language_info": {
   "codemirror_mode": {
    "name": "ipython",
    "version": 3
   },
   "file_extension": ".py",
   "mimetype": "text/x-python",
   "name": "python",
   "nbconvert_exporter": "python",
   "pygments_lexer": "ipython3",
   "version": "3.9.12"
  }
 },
 "nbformat": 4,
 "nbformat_minor": 1
}
