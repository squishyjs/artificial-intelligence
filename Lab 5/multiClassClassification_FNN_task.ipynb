{
 "cells": [
  {
   "cell_type": "markdown",
   "id": "43eaf93f",
   "metadata": {
    "id": "43eaf93f"
   },
   "source": [
    "## Lab 5 Solving a multi-class classification problem using a FNN (MLP)"
   ]
  },
  {
   "cell_type": "markdown",
   "id": "6f631ae2",
   "metadata": {
    "id": "6f631ae2"
   },
   "source": [
    "Dataset used is the wine dataset from https://archive.ics.uci.edu/ml/machine-learning-databases/wine/wine.data\n",
    "It is a classic and very easy multi-class classification.\n",
    "It have thirteen (13) features and y output which has three types (class labels)."
   ]
  },
  {
   "cell_type": "code",
   "execution_count": null,
   "id": "099b440b",
   "metadata": {
    "id": "099b440b"
   },
   "outputs": [],
   "source": [
    "# Load dataset and import required packages\n",
    "'''\n",
    "Task: Import pandas and give an alias as pd so that we can use pd in code for pandas\n",
    "'''\n",
    "\"Add your code here\"\n",
    "\n",
    "'''\n",
    "Task: Read a given csv file in the current folder (wine.csv) into a dataframe df using method read_csv() from pd.\n",
    "      This method takes two parameters: (1) the csv file name with its path and (2) names, which lists the column names,\n",
    "      such as ['y','x1','x2','x3','x4','x5','x6','x7','x8','x9','x10','x11','x12','x13']\n",
    "'''\n",
    "df = \"Add your code here\"\n"
   ]
  },
  {
   "cell_type": "code",
   "execution_count": 2,
   "id": "1e9f6032",
   "metadata": {
    "id": "1e9f6032",
    "outputId": "060c0f68-9eb2-41bb-cf97-d67cb23afb04"
   },
   "outputs": [
    {
     "name": "stdout",
     "output_type": "stream",
     "text": [
      "(178, 14)\n"
     ]
    }
   ],
   "source": [
    "# Display the dimensions of the dataframe df\n",
    "print(df.shape)"
   ]
  },
  {
   "cell_type": "code",
   "execution_count": 3,
   "id": "9bec1eb8",
   "metadata": {
    "id": "9bec1eb8",
    "outputId": "770f3600-dfe5-42b5-fda5-6041ec40aa96"
   },
   "outputs": [
    {
     "data": {
      "text/html": [
       "<div>\n",
       "<style scoped>\n",
       "    .dataframe tbody tr th:only-of-type {\n",
       "        vertical-align: middle;\n",
       "    }\n",
       "\n",
       "    .dataframe tbody tr th {\n",
       "        vertical-align: top;\n",
       "    }\n",
       "\n",
       "    .dataframe thead th {\n",
       "        text-align: right;\n",
       "    }\n",
       "</style>\n",
       "<table border=\"1\" class=\"dataframe\">\n",
       "  <thead>\n",
       "    <tr style=\"text-align: right;\">\n",
       "      <th></th>\n",
       "      <th>y</th>\n",
       "      <th>x1</th>\n",
       "      <th>x2</th>\n",
       "      <th>x3</th>\n",
       "      <th>x4</th>\n",
       "      <th>x5</th>\n",
       "      <th>x6</th>\n",
       "      <th>x7</th>\n",
       "      <th>x8</th>\n",
       "      <th>x9</th>\n",
       "      <th>x10</th>\n",
       "      <th>x11</th>\n",
       "      <th>x12</th>\n",
       "      <th>x13</th>\n",
       "    </tr>\n",
       "  </thead>\n",
       "  <tbody>\n",
       "    <tr>\n",
       "      <th>0</th>\n",
       "      <td>1</td>\n",
       "      <td>14.23</td>\n",
       "      <td>1.71</td>\n",
       "      <td>2.43</td>\n",
       "      <td>15.6</td>\n",
       "      <td>127</td>\n",
       "      <td>2.80</td>\n",
       "      <td>3.06</td>\n",
       "      <td>0.28</td>\n",
       "      <td>2.29</td>\n",
       "      <td>5.64</td>\n",
       "      <td>1.04</td>\n",
       "      <td>3.92</td>\n",
       "      <td>1065</td>\n",
       "    </tr>\n",
       "    <tr>\n",
       "      <th>1</th>\n",
       "      <td>1</td>\n",
       "      <td>13.20</td>\n",
       "      <td>1.78</td>\n",
       "      <td>2.14</td>\n",
       "      <td>11.2</td>\n",
       "      <td>100</td>\n",
       "      <td>2.65</td>\n",
       "      <td>2.76</td>\n",
       "      <td>0.26</td>\n",
       "      <td>1.28</td>\n",
       "      <td>4.38</td>\n",
       "      <td>1.05</td>\n",
       "      <td>3.40</td>\n",
       "      <td>1050</td>\n",
       "    </tr>\n",
       "    <tr>\n",
       "      <th>2</th>\n",
       "      <td>1</td>\n",
       "      <td>13.16</td>\n",
       "      <td>2.36</td>\n",
       "      <td>2.67</td>\n",
       "      <td>18.6</td>\n",
       "      <td>101</td>\n",
       "      <td>2.80</td>\n",
       "      <td>3.24</td>\n",
       "      <td>0.30</td>\n",
       "      <td>2.81</td>\n",
       "      <td>5.68</td>\n",
       "      <td>1.03</td>\n",
       "      <td>3.17</td>\n",
       "      <td>1185</td>\n",
       "    </tr>\n",
       "    <tr>\n",
       "      <th>3</th>\n",
       "      <td>1</td>\n",
       "      <td>14.37</td>\n",
       "      <td>1.95</td>\n",
       "      <td>2.50</td>\n",
       "      <td>16.8</td>\n",
       "      <td>113</td>\n",
       "      <td>3.85</td>\n",
       "      <td>3.49</td>\n",
       "      <td>0.24</td>\n",
       "      <td>2.18</td>\n",
       "      <td>7.80</td>\n",
       "      <td>0.86</td>\n",
       "      <td>3.45</td>\n",
       "      <td>1480</td>\n",
       "    </tr>\n",
       "    <tr>\n",
       "      <th>4</th>\n",
       "      <td>1</td>\n",
       "      <td>13.24</td>\n",
       "      <td>2.59</td>\n",
       "      <td>2.87</td>\n",
       "      <td>21.0</td>\n",
       "      <td>118</td>\n",
       "      <td>2.80</td>\n",
       "      <td>2.69</td>\n",
       "      <td>0.39</td>\n",
       "      <td>1.82</td>\n",
       "      <td>4.32</td>\n",
       "      <td>1.04</td>\n",
       "      <td>2.93</td>\n",
       "      <td>735</td>\n",
       "    </tr>\n",
       "  </tbody>\n",
       "</table>\n",
       "</div>"
      ],
      "text/plain": [
       "   y     x1    x2    x3    x4   x5    x6    x7    x8    x9   x10   x11   x12  \\\n",
       "0  1  14.23  1.71  2.43  15.6  127  2.80  3.06  0.28  2.29  5.64  1.04  3.92   \n",
       "1  1  13.20  1.78  2.14  11.2  100  2.65  2.76  0.26  1.28  4.38  1.05  3.40   \n",
       "2  1  13.16  2.36  2.67  18.6  101  2.80  3.24  0.30  2.81  5.68  1.03  3.17   \n",
       "3  1  14.37  1.95  2.50  16.8  113  3.85  3.49  0.24  2.18  7.80  0.86  3.45   \n",
       "4  1  13.24  2.59  2.87  21.0  118  2.80  2.69  0.39  1.82  4.32  1.04  2.93   \n",
       "\n",
       "    x13  \n",
       "0  1065  \n",
       "1  1050  \n",
       "2  1185  \n",
       "3  1480  \n",
       "4   735  "
      ]
     },
     "execution_count": 3,
     "metadata": {},
     "output_type": "execute_result"
    }
   ],
   "source": [
    "# Display the first 5 rows of this dataframe df\n",
    "df.head()"
   ]
  },
  {
   "cell_type": "code",
   "execution_count": 4,
   "id": "cf2a1707",
   "metadata": {
    "id": "cf2a1707"
   },
   "outputs": [],
   "source": [
    "# Separate the dataset into input X and output y\n",
    "X = df.iloc[:,1:]\n",
    "y = df.iloc[:,0]\n",
    "y = y - 1  # Decrementing by 1 to make labels start from 0"
   ]
  },
  {
   "cell_type": "code",
   "execution_count": null,
   "id": "0c3d0155",
   "metadata": {
    "id": "0c3d0155"
   },
   "outputs": [],
   "source": [
    "# Create the train and test datasets using function train_test_split() and import required package\n",
    "'''\n",
    "Task: Import train_test_split from sklearn.model_selection\n",
    "'''\n",
    "\"Add your code here\"\n",
    "\n",
    "\n",
    "'''\n",
    "Task: Split the dataset into train and test datasets using method train_test_split() with four parameters:\n",
    "      (1) X of datasetas,(2) y of dataset, (3) test_size = 0.2 (for 80:20 ratio) and (4) random_state = 42 (Popular integer random seeds are 0 and 42)\n",
    "'''\n",
    "X_train, X_test, y_train, y_test = \"Add your code here\"\n"
   ]
  },
  {
   "cell_type": "code",
   "execution_count": 6,
   "id": "bc025d19",
   "metadata": {
    "id": "bc025d19",
    "outputId": "afbbfd8a-dd22-4b47-c62d-ad66b995a20c"
   },
   "outputs": [
    {
     "name": "stdout",
     "output_type": "stream",
     "text": [
      "[[1.434e+01 1.680e+00 2.700e+00 ... 5.700e-01 1.960e+00 6.600e+02]\n",
      " [1.253e+01 5.510e+00 2.640e+00 ... 8.200e-01 1.690e+00 5.150e+02]\n",
      " [1.237e+01 1.070e+00 2.100e+00 ... 1.040e+00 2.770e+00 6.600e+02]\n",
      " ...\n",
      " [1.438e+01 1.870e+00 2.380e+00 ... 1.200e+00 3.000e+00 1.547e+03]\n",
      " [1.269e+01 1.530e+00 2.260e+00 ... 9.600e-01 2.060e+00 4.950e+02]\n",
      " [1.234e+01 2.450e+00 2.460e+00 ... 8.000e-01 3.380e+00 4.380e+02]]\n"
     ]
    }
   ],
   "source": [
    "print(X_train.values)"
   ]
  },
  {
   "cell_type": "markdown",
   "id": "8763399f",
   "metadata": {
    "id": "8763399f"
   },
   "source": [
    "### Set aside two futureSample dataset\n"
   ]
  },
  {
   "cell_type": "code",
   "execution_count": 7,
   "id": "d1511b1b",
   "metadata": {
    "id": "d1511b1b"
   },
   "outputs": [],
   "source": [
    "# Create a future sample set from the test dataset\n",
    "futureSample_data= X_test[-2:]\n",
    "futureSample_label= y_test[-2:]"
   ]
  },
  {
   "cell_type": "code",
   "execution_count": 8,
   "id": "8fe71b8e",
   "metadata": {
    "id": "8fe71b8e"
   },
   "outputs": [],
   "source": [
    "# Adjust the test dataset after taking the future sample set\n",
    "X_test = X_test[:-2]\n",
    "y_test = y_test[:-2]"
   ]
  },
  {
   "cell_type": "markdown",
   "id": "23bdfe89",
   "metadata": {
    "id": "23bdfe89"
   },
   "source": [
    "### Develop the FNN(MLP) model by training the model using the trainig dataset"
   ]
  },
  {
   "cell_type": "code",
   "execution_count": null,
   "id": "24507b2c",
   "metadata": {},
   "outputs": [],
   "source": [
    "# Set parameters for the FNN\n",
    "input_dim = X_train.shape[1]\n",
    "\"\"\"\n",
    "Task: try different number of hidden layers and use different number of neurons in each layer\n",
    "\"\"\"\n",
    "n_neurons_1 = \"Add your code here\"\n",
    "n_neurons_2 = \"Add your code here\"\n",
    "n_neurons_3 = \"Add your code here\"\n",
    "\n",
    "# One suggestion\n",
    "n_neurons_1 = 512\n",
    "n_neurons_2 = 512\n",
    "n_neurons_3 = 100\n",
    "\n",
    "output_dim = 3"
   ]
  },
  {
   "cell_type": "code",
   "execution_count": null,
   "id": "5b0a67d7",
   "metadata": {
    "id": "5b0a67d7"
   },
   "outputs": [],
   "source": [
    "# Set up parameters for running the FNN model\n",
    "\"\"\"\n",
    "Task: try different number of epochs and batchsize  to see the difference of training process\n",
    "\"\"\"\n",
    "epochNo = \"Add your code here\"\n",
    "batchSize = \"Add your code here\"\n",
    "\n",
    "# One suggestion\n",
    "epochNo = 20\n",
    "batchSize=16"
   ]
  },
  {
   "cell_type": "code",
   "execution_count": 11,
   "id": "015b097b",
   "metadata": {
    "id": "015b097b"
   },
   "outputs": [],
   "source": [
    "# Construct a FNN model and import required packages\n",
    "import tensorflow as tf\n",
    "from tensorflow.keras.layers import Dense, Input\n",
    "\n",
    "model = tf.keras.Sequential()\n",
    "model.add(Input(shape=(input_dim,)))\n",
    "# Note: If you use a number of hidden layer that is different from 3, you need to midify the following three lines of code\n",
    "model.add(Dense(n_neurons_1,activation='relu'))\n",
    "model.add(Dense(n_neurons_2,activation='relu'))\n",
    "model.add(Dense(n_neurons_3,activation='relu'))\n",
    "\n",
    "model.add(Dense(3, activation=tf.keras.activations.softmax)) # Note. three classes need three output nodes with softmax as the activation function, each output indicates the probability of being in one class"
   ]
  },
  {
   "cell_type": "code",
   "execution_count": 12,
   "id": "76558f2c",
   "metadata": {
    "colab": {
     "base_uri": "https://localhost:8080/"
    },
    "executionInfo": {
     "elapsed": 6,
     "status": "ok",
     "timestamp": 1693553990681,
     "user": {
      "displayName": "Mingshan Jia",
      "userId": "05917314885843876736"
     },
     "user_tz": -600
    },
    "id": "76558f2c",
    "outputId": "d46c8077-5ca7-4f2c-aba5-3a5365b841d5"
   },
   "outputs": [
    {
     "name": "stdout",
     "output_type": "stream",
     "text": [
      "The model layers is 4: \n"
     ]
    }
   ],
   "source": [
    "# Display the layers in the newly created NN model\n",
    "print ('The model layers is {}: '.format(len(model.layers)))"
   ]
  },
  {
   "cell_type": "code",
   "execution_count": null,
   "id": "691021eb",
   "metadata": {
    "id": "691021eb"
   },
   "outputs": [],
   "source": [
    "# Compile the constructed model\n",
    "'''\n",
    "Task: Compile the model using method compile() from the model with the parameters: loss='sparse_categorical_crossentropy', optimizer='adam', metrics=['accuracy']\n",
    "'''\n",
    "\"Add your code here\"\n"
   ]
  },
  {
   "cell_type": "code",
   "execution_count": null,
   "id": "1a125ec6",
   "metadata": {
    "id": "1a125ec6"
   },
   "outputs": [],
   "source": [
    "# Train the model\n",
    "'''\n",
    "Task: Train the model using method fit() from the model with the parameters:X_train, y_train, epochs=epochNo, batch_size=batchSize, verbose=0\n",
    "'''\n",
    "\"Add your code here\"\n"
   ]
  },
  {
   "cell_type": "code",
   "execution_count": 15,
   "id": "97eccf35",
   "metadata": {
    "colab": {
     "base_uri": "https://localhost:8080/"
    },
    "executionInfo": {
     "elapsed": 430,
     "status": "ok",
     "timestamp": 1693554443357,
     "user": {
      "displayName": "Mingshan Jia",
      "userId": "05917314885843876736"
     },
     "user_tz": -600
    },
    "id": "97eccf35",
    "outputId": "10c85255-ea77-47db-9876-08d3adf2bf1f"
   },
   "outputs": [
    {
     "name": "stdout",
     "output_type": "stream",
     "text": [
      "2/2 [==============================] - 0s 0s/step\n"
     ]
    }
   ],
   "source": [
    "# Predict the output of the test set using method predict() from the model and determine the class labels using the argmax() method with parameter axis =1 \n",
    "predictions = model.predict(X_test)\n",
    "y_preds = predictions.argmax(axis=1)"
   ]
  },
  {
   "cell_type": "code",
   "execution_count": null,
   "id": "87ad5ebc",
   "metadata": {
    "id": "87ad5ebc"
   },
   "outputs": [],
   "source": [
    "# Evaluate the model using method evaluate() from the model with the test set and verbose being 0,1,2, or 3\n",
    "'''\n",
    "Task: Evaluate the model using method evaluate() from the model with the test set and verbose being 0,1,2, or 3\n",
    "'''\n",
    "scores = \"Add your code here\"\n",
    "\n",
    "print(scores)"
   ]
  },
  {
   "cell_type": "code",
   "execution_count": 17,
   "id": "7efa43ca",
   "metadata": {
    "id": "7efa43ca"
   },
   "outputs": [],
   "source": [
    "# import metrics from sklearn for calculation of evaluation metrics, such as accuracy, precision, recall and f1-score\n",
    "from sklearn import metrics"
   ]
  },
  {
   "cell_type": "code",
   "execution_count": null,
   "id": "6ef75e08",
   "metadata": {
    "id": "6ef75e08"
   },
   "outputs": [],
   "source": [
    "# Calculate accuracy of test set using method accuracy_score()\n",
    "'''\n",
    "Task: calcualte accuracy of test set using method accuracy_score() from metrics\n",
    "'''\n",
    "accuracy_test = \"Add your code here\"\n",
    "\n",
    "print (accuracy_test)"
   ]
  },
  {
   "cell_type": "code",
   "execution_count": null,
   "id": "d9dcf693",
   "metadata": {
    "id": "d9dcf693"
   },
   "outputs": [],
   "source": [
    "# Calculate precision of test set using method presion_score() from metrics\n",
    "'''\n",
    "Task: Calculate precision of test set using method presion_score() from metrics, with average='weighted'\n",
    "'''\n",
    "precision_test = \"Add your code here\"\n",
    "\n",
    "print(precision_test)"
   ]
  },
  {
   "cell_type": "code",
   "execution_count": null,
   "id": "feb27478",
   "metadata": {
    "id": "feb27478"
   },
   "outputs": [],
   "source": [
    "# Calculate recall of test set using method recall_score() from metrics with average='weighted'\n",
    "'''\n",
    "Task: Calculate recall of test set using method recall_score() from metrics, with average='weighted'\n",
    "'''\n",
    "recall_test = \"Add your code here\"\n",
    "\n",
    "print(recall_test)"
   ]
  },
  {
   "cell_type": "code",
   "execution_count": null,
   "id": "b7805209",
   "metadata": {
    "id": "b7805209"
   },
   "outputs": [],
   "source": [
    "# Calculate f1 score of test set using method f1_score(), with average='weighted'\n",
    "'''\n",
    "Task: Calculate f1 score of test set using method f1_score() from metrics with average='weighted'\n",
    "'''\n",
    "f1_score_test = \"Add your code here\"\n",
    "\n",
    "print(f1_score_test)"
   ]
  },
  {
   "cell_type": "code",
   "execution_count": 22,
   "id": "be3416c4",
   "metadata": {
    "colab": {
     "base_uri": "https://localhost:8080/",
     "height": 406
    },
    "executionInfo": {
     "elapsed": 661,
     "status": "ok",
     "timestamp": 1693554664077,
     "user": {
      "displayName": "Mingshan Jia",
      "userId": "05917314885843876736"
     },
     "user_tz": -600
    },
    "id": "be3416c4",
    "outputId": "406900b8-98b7-4c9b-ad3c-3aee5e03663b"
   },
   "outputs": [
    {
     "data": {
      "text/plain": [
       "<sklearn.metrics._plot.confusion_matrix.ConfusionMatrixDisplay at 0x2caf6d05370>"
      ]
     },
     "execution_count": 22,
     "metadata": {},
     "output_type": "execute_result"
    },
    {
     "data": {
      "image/png": "[encoded data removed]",
      "text/plain": [
       "<Figure size 500x400 with 2 Axes>"
      ]
     },
     "metadata": {
      "needs_background": "light"
     },
     "output_type": "display_data"
    }
   ],
   "source": [
    "# Display the confusion matrix and import required package\n",
    "from sklearn.metrics import ConfusionMatrixDisplay,confusion_matrix\n",
    "import matplotlib.pyplot as plt\n",
    "\n",
    "fig, ax = plt.subplots(figsize = (5,4), dpi = 100)\n",
    "cm = confusion_matrix(y_test, y_preds)\n",
    "cmp = ConfusionMatrixDisplay(cm, display_labels = ['class_0', 'class_1', 'class_2'])\n",
    "cmp.plot(ax=ax)"
   ]
  },
  {
   "cell_type": "code",
   "execution_count": 23,
   "id": "5d0f84be",
   "metadata": {
    "colab": {
     "base_uri": "https://localhost:8080/"
    },
    "executionInfo": {
     "elapsed": 491,
     "status": "ok",
     "timestamp": 1693554687978,
     "user": {
      "displayName": "Mingshan Jia",
      "userId": "05917314885843876736"
     },
     "user_tz": -600
    },
    "id": "5d0f84be",
    "outputId": "c9783317-b2f6-4ff4-a86f-d34eeaaeb5bc"
   },
   "outputs": [
    {
     "name": "stdout",
     "output_type": "stream",
     "text": [
      "              precision    recall  f1-score   support\n",
      "\n",
      "           0       1.00      0.92      0.96        12\n",
      "           1       1.00      0.21      0.35        14\n",
      "           2       0.40      1.00      0.57         8\n",
      "\n",
      "    accuracy                           0.65        34\n",
      "   macro avg       0.80      0.71      0.63        34\n",
      "weighted avg       0.86      0.65      0.62        34\n",
      "\n"
     ]
    }
   ],
   "source": [
    "# Display the evaluation report\n",
    "print(metrics.classification_report(y_test, y_preds))"
   ]
  },
  {
   "cell_type": "code",
   "execution_count": 24,
   "id": "82e64ace",
   "metadata": {
    "id": "82e64ace"
   },
   "outputs": [
    {
     "name": "stderr",
     "output_type": "stream",
     "text": [
      "C:\\Users\\000516\\AppData\\Roaming\\Python\\Python39\\site-packages\\keras\\src\\engine\\training.py:3079: UserWarning: You are saving your model as an HDF5 file via `model.save()`. This file format is considered legacy. We recommend using instead the native Keras format, e.g. `model.save('my_model.keras')`.\n",
      "  saving_api.save_model(\n"
     ]
    }
   ],
   "source": [
    "from tensorflow.keras.models import load_model\n",
    "\n",
    "model.save(\"model.h5\")"
   ]
  },
  {
   "cell_type": "markdown",
   "id": "c30d464d",
   "metadata": {
    "id": "c30d464d"
   },
   "source": [
    "### Predict the class for the data samples in the future sample set\n"
   ]
  },
  {
   "cell_type": "markdown",
   "id": "8185f508",
   "metadata": {
    "id": "8185f508"
   },
   "source": [
    "Use the futureSample_data to simulate a real-world application scenario"
   ]
  },
  {
   "cell_type": "code",
   "execution_count": 25,
   "id": "338dd0a4",
   "metadata": {
    "id": "338dd0a4"
   },
   "outputs": [],
   "source": [
    "loaded_model = load_model ('model.h5')"
   ]
  },
  {
   "cell_type": "code",
   "execution_count": 26,
   "id": "0615afd6",
   "metadata": {
    "colab": {
     "base_uri": "https://localhost:8080/"
    },
    "executionInfo": {
     "elapsed": 17,
     "status": "ok",
     "timestamp": 1693554693652,
     "user": {
      "displayName": "Mingshan Jia",
      "userId": "05917314885843876736"
     },
     "user_tz": -600
    },
    "id": "0615afd6",
    "outputId": "c530ef39-fa68-45dd-8ec4-d4c261ac3c5e"
   },
   "outputs": [
    {
     "name": "stdout",
     "output_type": "stream",
     "text": [
      "Model: \"sequential\"\n",
      "_________________________________________________________________\n",
      " Layer (type)                Output Shape              Param #   \n",
      "=================================================================\n",
      " dense (Dense)               (None, 512)               7168      \n",
      "                                                                 \n",
      " dense_1 (Dense)             (None, 512)               262656    \n",
      "                                                                 \n",
      " dense_2 (Dense)             (None, 100)               51300     \n",
      "                                                                 \n",
      " dense_3 (Dense)             (None, 3)                 303       \n",
      "                                                                 \n",
      "=================================================================\n",
      "Total params: 321427 (1.23 MB)\n",
      "Trainable params: 321427 (1.23 MB)\n",
      "Non-trainable params: 0 (0.00 Byte)\n",
      "_________________________________________________________________\n"
     ]
    }
   ],
   "source": [
    "loaded_model.summary()"
   ]
  },
  {
   "cell_type": "code",
   "execution_count": 27,
   "id": "c4359306",
   "metadata": {
    "colab": {
     "base_uri": "https://localhost:8080/"
    },
    "executionInfo": {
     "elapsed": 514,
     "status": "ok",
     "timestamp": 1693554698635,
     "user": {
      "displayName": "Mingshan Jia",
      "userId": "05917314885843876736"
     },
     "user_tz": -600
    },
    "id": "c4359306",
    "outputId": "c3bd3281-3a27-44a2-bb12-861b0096cf3b"
   },
   "outputs": [
    {
     "name": "stdout",
     "output_type": "stream",
     "text": [
      "       x1    x2    x3    x4   x5    x6    x7    x8    x9   x10   x11   x12  \\\n",
      "12  13.75  1.73  2.41  16.0   89  2.60  2.76  0.29  1.81  5.60  1.15  2.90   \n",
      "42  13.88  1.89  2.59  15.0  101  3.25  3.56  0.17  1.70  5.43  0.88  3.56   \n",
      "\n",
      "     x13  \n",
      "12  1320  \n",
      "42  1095  \n"
     ]
    }
   ],
   "source": [
    "print(futureSample_data)"
   ]
  },
  {
   "cell_type": "code",
   "execution_count": 29,
   "id": "59130fde",
   "metadata": {
    "colab": {
     "base_uri": "https://localhost:8080/"
    },
    "executionInfo": {
     "elapsed": 296,
     "status": "ok",
     "timestamp": 1693554747092,
     "user": {
      "displayName": "Mingshan Jia",
      "userId": "05917314885843876736"
     },
     "user_tz": -600
    },
    "id": "59130fde",
    "outputId": "68a1823d-bbba-44f3-b977-f87934882559"
   },
   "outputs": [
    {
     "name": "stdout",
     "output_type": "stream",
     "text": [
      "1/1 [==============================] - 0s 27ms/step\n",
      "The predicated classes are [0 0] vs the true classes are [0 0]\n"
     ]
    }
   ],
   "source": [
    "# Predict the output for the future samples using method predict() from the loaded model, loaded_model\n",
    "predictions_val = loaded_model.predict(futureSample_data)\n",
    "y_preds_val = predictions_val.argmax(axis=1)\n",
    "print(\"The predicated classes are {} vs the true classes are {}\".format(y_preds_val, futureSample_label.values))"
   ]
  },
  {
   "cell_type": "code",
   "execution_count": null,
   "id": "d6f7d774",
   "metadata": {},
   "outputs": [],
   "source": []
  }
 ],
 "metadata": {
  "colab": {
   "provenance": []
  },
  "kernelspec": {
   "display_name": "Python 3 (ipykernel)",
   "language": "python",
   "name": "python3"
  },
  "language_info": {
   "codemirror_mode": {
    "name": "ipython",
    "version": 3
   },
   "file_extension": ".py",
   "mimetype": "text/x-python",
   "name": "python",
   "nbconvert_exporter": "python",
   "pygments_lexer": "ipython3",
   "version": "3.9.12"
  },
  "pycharm": {
   "stem_cell": {
    "cell_type": "raw",
    "metadata": {
     "collapsed": false
    },
    "source": []
   }
  },
  "vp": {
   "vp_config_version": "1.0.0",
   "vp_menu_width": 273,
   "vp_note_display": false,
   "vp_note_width": 0,
   "vp_position": {
    "width": 278
   },
   "vp_section_display": false,
   "vp_signature": "VisualPython"
  }
 },
 "nbformat": 4,
 "nbformat_minor": 5
}
