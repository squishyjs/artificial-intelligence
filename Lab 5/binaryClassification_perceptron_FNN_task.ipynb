{
 "cells": [
  {
   "cell_type": "markdown",
   "id": "43eaf93f",
   "metadata": {
    "id": "43eaf93f"
   },
   "source": [
    "## Lab 5 Solving a binary classification problem using a perceptron and a FNN (MLP)"
   ]
  },
  {
   "cell_type": "markdown",
   "id": "a479eb49",
   "metadata": {
    "id": "a479eb49"
   },
   "source": [
    "The dataset used can be found at https://www.kaggle.com/datasets/uciml/pima-indians-diabetes-database  \n",
    "\n",
    "Context of the dataset:\n",
    "This dataset is originally from the National Institute of Diabetes and Digestive and Kidney Diseases. The objective of the dataset is to diagnostically predict whether or not a patient has diabetes, based on certain diagnostic measurements included in the dataset.\n",
    "\n",
    "Content of the dataset:\n",
    "The datasets consists of several medical predictor variables and one target variable, Outcome. Predictor variables includes the number of pregnancies the patient has had, their BMI, insulin level, age, and so on.\n",
    "\n",
    "Read a data file and save the input data into a data frame. The data file should be saved in the current directory."
   ]
  },
  {
   "cell_type": "code",
   "execution_count": null,
   "id": "124930c7",
   "metadata": {
    "id": "124930c7"
   },
   "outputs": [],
   "source": [
    "# Load dataset and import required packages\n",
    "'''\n",
    "Task: Import pandas and give it an alias as pd so that we can use pd in code for pandas. Pandas is a powerful data manipulation and analysis library in Python.\n",
    "'''\n",
    "\"Add your code here\"\n",
    "\n",
    "\n",
    "'''\n",
    "Task: Read a CSV file (the target csv file) into a DataFrame, called `df`, using pandas' read_csv function. The read_csv function loads the data from the CSV file into a pandas DataFrame, which is a tabular data structure with labeled axes.\n",
    "'''\n",
    "df = \"Add your code here\"\n",
    "\n"
   ]
  },
  {
   "cell_type": "code",
   "execution_count": 3,
   "id": "c31e623c",
   "metadata": {
    "colab": {
     "base_uri": "https://localhost:8080/"
    },
    "executionInfo": {
     "elapsed": 5,
     "status": "ok",
     "timestamp": 1689849182120,
     "user": {
      "displayName": "Mingshan Jia",
      "userId": "05917314885843876736"
     },
     "user_tz": -600
    },
    "id": "c31e623c",
    "outputId": "1e0e5c04-bc88-4960-e2ff-bb058fda80ae"
   },
   "outputs": [
    {
     "name": "stdout",
     "output_type": "stream",
     "text": [
      "(768, 9)\n"
     ]
    }
   ],
   "source": [
    "# Display the dimensions of the dataframe df using shape() method\n",
    "print(df.shape)"
   ]
  },
  {
   "cell_type": "code",
   "execution_count": 4,
   "id": "10d906ba",
   "metadata": {
    "id": "10d906ba",
    "outputId": "04cfb226-4bf7-4f34-e86a-90eda477aba1"
   },
   "outputs": [
    {
     "data": {
      "text/html": [
       "<div>\n",
       "<style scoped>\n",
       "    .dataframe tbody tr th:only-of-type {\n",
       "        vertical-align: middle;\n",
       "    }\n",
       "\n",
       "    .dataframe tbody tr th {\n",
       "        vertical-align: top;\n",
       "    }\n",
       "\n",
       "    .dataframe thead th {\n",
       "        text-align: right;\n",
       "    }\n",
       "</style>\n",
       "<table border=\"1\" class=\"dataframe\">\n",
       "  <thead>\n",
       "    <tr style=\"text-align: right;\">\n",
       "      <th></th>\n",
       "      <th>Pregnancies</th>\n",
       "      <th>Glucose</th>\n",
       "      <th>BloodPressure</th>\n",
       "      <th>SkinThickness</th>\n",
       "      <th>Insulin</th>\n",
       "      <th>BMI</th>\n",
       "      <th>DiabetesPedigreeFunction</th>\n",
       "      <th>Age</th>\n",
       "      <th>Outcome</th>\n",
       "    </tr>\n",
       "  </thead>\n",
       "  <tbody>\n",
       "    <tr>\n",
       "      <th>0</th>\n",
       "      <td>6</td>\n",
       "      <td>148</td>\n",
       "      <td>72</td>\n",
       "      <td>35</td>\n",
       "      <td>0</td>\n",
       "      <td>33.6</td>\n",
       "      <td>0.627</td>\n",
       "      <td>50</td>\n",
       "      <td>1</td>\n",
       "    </tr>\n",
       "    <tr>\n",
       "      <th>1</th>\n",
       "      <td>1</td>\n",
       "      <td>85</td>\n",
       "      <td>66</td>\n",
       "      <td>29</td>\n",
       "      <td>0</td>\n",
       "      <td>26.6</td>\n",
       "      <td>0.351</td>\n",
       "      <td>31</td>\n",
       "      <td>0</td>\n",
       "    </tr>\n",
       "    <tr>\n",
       "      <th>2</th>\n",
       "      <td>8</td>\n",
       "      <td>183</td>\n",
       "      <td>64</td>\n",
       "      <td>0</td>\n",
       "      <td>0</td>\n",
       "      <td>23.3</td>\n",
       "      <td>0.672</td>\n",
       "      <td>32</td>\n",
       "      <td>1</td>\n",
       "    </tr>\n",
       "    <tr>\n",
       "      <th>3</th>\n",
       "      <td>1</td>\n",
       "      <td>89</td>\n",
       "      <td>66</td>\n",
       "      <td>23</td>\n",
       "      <td>94</td>\n",
       "      <td>28.1</td>\n",
       "      <td>0.167</td>\n",
       "      <td>21</td>\n",
       "      <td>0</td>\n",
       "    </tr>\n",
       "    <tr>\n",
       "      <th>4</th>\n",
       "      <td>0</td>\n",
       "      <td>137</td>\n",
       "      <td>40</td>\n",
       "      <td>35</td>\n",
       "      <td>168</td>\n",
       "      <td>43.1</td>\n",
       "      <td>2.288</td>\n",
       "      <td>33</td>\n",
       "      <td>1</td>\n",
       "    </tr>\n",
       "  </tbody>\n",
       "</table>\n",
       "</div>"
      ],
      "text/plain": [
       "   Pregnancies  Glucose  BloodPressure  SkinThickness  Insulin   BMI  \\\n",
       "0            6      148             72             35        0  33.6   \n",
       "1            1       85             66             29        0  26.6   \n",
       "2            8      183             64              0        0  23.3   \n",
       "3            1       89             66             23       94  28.1   \n",
       "4            0      137             40             35      168  43.1   \n",
       "\n",
       "   DiabetesPedigreeFunction  Age  Outcome  \n",
       "0                     0.627   50        1  \n",
       "1                     0.351   31        0  \n",
       "2                     0.672   32        1  \n",
       "3                     0.167   21        0  \n",
       "4                     2.288   33        1  "
      ]
     },
     "execution_count": 4,
     "metadata": {},
     "output_type": "execute_result"
    }
   ],
   "source": [
    "# Display the first 5 rows of this dataframe df using head() method\n",
    "df.head()"
   ]
  },
  {
   "cell_type": "code",
   "execution_count": null,
   "id": "5289b69f",
   "metadata": {},
   "outputs": [],
   "source": [
    "# Separate the dataset into input X and output y\n",
    "'''\n",
    "Task: Separate the dataset into inputs and output parts and save the inputs in a dataframe `X` and output in a series `y`. Use drop() method to drop the `Outcome`column and keep the other columns as the inputs `X`. Extract the `Outcome` column as the output `y`.\n",
    "'''\n",
    "X = \"Add your code here\"\n",
    "y = \"Add your code here\"\n"
   ]
  },
  {
   "cell_type": "code",
   "execution_count": null,
   "id": "7feb60a1",
   "metadata": {},
   "outputs": [],
   "source": [
    "# Import required library for creating train and test datasets\n",
    "\"\"\"\n",
    "Task: Import the `train_test_split()` function from the `model_selection` module in the `sklearn` library. \n",
    "Note: To import a function from a module of a library, we use the convention: from library-name.module-name import function-name.\n",
    "\"\"\"\n",
    "\"Add your code here\"\n"
   ]
  },
  {
   "cell_type": "code",
   "execution_count": null,
   "id": "feaac951",
   "metadata": {
    "id": "feaac951"
   },
   "outputs": [],
   "source": [
    "# Create the train and test datasets using function train_test_split() \n",
    "'''\n",
    "Task: Split the dataset into train and test datasets using method train_test_split() with four parameters:\n",
    "      (1) X of datasetas,(2) y of dataset, (3) test_size = 0.2 (for 80:20 ratio) and (4) random_state = 42 (Popular integer random seeds are 0 and 42)\n",
    "'''\n",
    "X_train, X_test, y_train, y_test = \"Add your code here\"\n",
    "\n"
   ]
  },
  {
   "cell_type": "code",
   "execution_count": 8,
   "id": "e46ce1cd",
   "metadata": {
    "colab": {
     "base_uri": "https://localhost:8080/"
    },
    "executionInfo": {
     "elapsed": 13,
     "status": "ok",
     "timestamp": 1689848655083,
     "user": {
      "displayName": "Mingshan Jia",
      "userId": "05917314885843876736"
     },
     "user_tz": -600
    },
    "id": "e46ce1cd",
    "outputId": "006f0b36-2fea-44ca-f053-402b2938c89d"
   },
   "outputs": [
    {
     "name": "stdout",
     "output_type": "stream",
     "text": [
      "[[  2.     84.      0.    ...   0.      0.304  21.   ]\n",
      " [  9.    112.     82.    ...  28.2     1.282  50.   ]\n",
      " [  1.    139.     46.    ...  28.7     0.654  22.   ]\n",
      " ...\n",
      " [ 10.    101.     86.    ...  45.6     1.136  38.   ]\n",
      " [  0.    141.      0.    ...  42.4     0.205  29.   ]\n",
      " [  0.    125.     96.    ...  22.5     0.262  21.   ]]\n"
     ]
    }
   ],
   "source": [
    "print(X_train.values)"
   ]
  },
  {
   "cell_type": "markdown",
   "id": "8763399f",
   "metadata": {
    "id": "8763399f"
   },
   "source": [
    "### Set aside two futureSample dataset"
   ]
  },
  {
   "cell_type": "code",
   "execution_count": 9,
   "id": "d1511b1b",
   "metadata": {
    "id": "d1511b1b"
   },
   "outputs": [],
   "source": [
    "# Create a future sample set from the test dataset\n",
    "futureSample_data = X_test[-2:]\n",
    "futureSample_label = y_test[-2:]"
   ]
  },
  {
   "cell_type": "code",
   "execution_count": 10,
   "id": "8fe71b8e",
   "metadata": {
    "id": "8fe71b8e"
   },
   "outputs": [],
   "source": [
    "# Adjust the test dataset after taking the future sample set\n",
    "X_test = X_test[:-2]\n",
    "y_test = y_test[:-2]"
   ]
  },
  {
   "cell_type": "markdown",
   "id": "a2c6922b",
   "metadata": {
    "id": "a2c6922b"
   },
   "source": [
    "Two models are considered in this notebook: model 1 is the Perceptron model; Model 2 is a feedforward neural neteork (FNN).\n",
    "Select a model to develop a classifier using a perceptron model (model_option = 1) or a FNN model (model_option = 2)."
   ]
  },
  {
   "cell_type": "code",
   "execution_count": 11,
   "id": "2f3e8c45",
   "metadata": {
    "colab": {
     "base_uri": "https://localhost:8080/"
    },
    "executionInfo": {
     "elapsed": 1985,
     "status": "ok",
     "timestamp": 1689849244867,
     "user": {
      "displayName": "Mingshan Jia",
      "userId": "05917314885843876736"
     },
     "user_tz": -600
    },
    "id": "2f3e8c45",
    "outputId": "98fd829b-21b7-416a-ef65-ac45534a6091"
   },
   "outputs": [
    {
     "name": "stdout",
     "output_type": "stream",
     "text": [
      "Choose a model, 1 -- perceptron model and 2 -- Feedforward neural network, \n",
      " your choice:1\n"
     ]
    }
   ],
   "source": [
    "model_option = int(input(\"Choose a model, 1 -- perceptron model and 2 -- Feedforward neural network, \\n your choice:\"))"
   ]
  },
  {
   "cell_type": "markdown",
   "id": "bb3b1f16",
   "metadata": {},
   "source": [
    "The following are the key steps in developing a learning model:\n",
    "* Preparation: Define a train dataset, a test dataset and a future dataset\n",
    "* Define a Model: Use TensorFlow’s APIs to define the architecture of a machine learning model.\n",
    "* Compile the Model: Specify the optimizer, loss function, and metrics (except for Perceptron Model)\n",
    "* Train the Model: Use your data to train the model by adjusting its parameters.\n",
    "* Test and evaluate the Model: Test the model’s performance on validation or test data."
   ]
  },
  {
   "cell_type": "code",
   "execution_count": null,
   "id": "d2a85627",
   "metadata": {
    "id": "d2a85627"
   },
   "outputs": [],
   "source": [
    "if (model_option == 1): # Perceptron model can be found at https://scikit-learn.org/stable/modules/generated/sklearn.linear_model.Perceptron.html\n",
    "    # Define a model\n",
    "    '''\n",
    "    Task: import Perceptron from sklearn.linear_model for using Perceptron model\n",
    "    '''\n",
    "    \"Add your code here\"\n",
    "\n",
    "\n",
    "    '''\n",
    "    Task: Define a Perceptron model, called `model`, using the `Perceptron` class constructor `Perceptron()` with arguments: penalty = 'elasticnet' and l1_ratio = 0    \n",
    "    '''\n",
    "    model = \"Add your code here\"\n",
    "    \n",
    "\n",
    "\n",
    "    '''\n",
    "    Task: train the Perceptron using the method fit() in the created model with the train dataset\n",
    "    '''\n",
    "    \"Add your code here\"\n",
    "    \n",
    "\n",
    "\n",
    "\n",
    "    print(model.score(X_train,y_train))\n",
    "    '''\n",
    "    Task: predict the y values of test set using the trained model using method predict() from the model\n",
    "    '''\n",
    "    y_preds = \"Add your code here\"\n",
    "\n",
    "\n",
    "    print (y_preds)\n",
    "    \n",
    "    # Save the trained model\n",
    "    import joblib\n",
    "    joblib.dump(my_model, 'my_model.pkl')\n",
    "    \n",
    "    # Load a pre-trained model\n",
    "    loaded_model = joblib.load('my_model.pkl')\n",
    "elif (model_option == 2):\n",
    "\n",
    "    import tensorflow as tf\n",
    "    from keras.layers import Dense, Input\n",
    "\n",
    "    # Define parameters to define the model. You can change these parameters to get different FNN models to compare their results\n",
    "    input_dim   = X_train.shape[1]\n",
    "    n_neurons_1   = 512\n",
    "    n_neurons_2   = 256\n",
    "    n_neurons_3   = 100\n",
    "    \n",
    "    # Define parameters used in running the training process. YOu can change these parameters to alter the training process\n",
    "    epochNo      =  100\n",
    "    batchSize = 16\n",
    "    \n",
    "    # Create the model\n",
    "    model = tf.keras.Sequential()\n",
    "    \n",
    "    '''\n",
    "    Task: Add one Input layer using method add() with the parameter: shape(input_dim,:)\n",
    "    \n",
    "    '''\n",
    "    \"Add your code here\"\n",
    "    \n",
    "  \n",
    "    '''\n",
    "    Task: Add one Dense layer using method add() from model with the parameter: n_neurons_1 and activation='relu'\n",
    "    '''\n",
    "    \"Add your code here\"\n",
    "    \n",
    "\n",
    "    '''\n",
    "    Task: Add two more Dense layers using method add() from model with the parameters: n_neurons_2 and n_neurons_3 and activation='relu'\n",
    "    '''\n",
    "    \"Add your code here\"\n",
    "    \n",
    "\n",
    "    '''\n",
    "    Task: Add one Dense layer using method add() from model with the parameters: output_dim and activation = tf.keras.activations.sigmoid\n",
    "    '''\n",
    "    \"Add your code here\"\n",
    "\n",
    "\n",
    "    print ('The model layers is {}: '.format(len(model.layers)))    # The layers in a NN model can be accessed by attribute \"layers\"\n",
    "\n",
    "    '''\n",
    "    Task: Compile the model using method compile() from the model with the parameters: loss='binary_crossentropy', optimizer='adam', metrics=['accuracy']\n",
    "    '''\n",
    "    \"Add your code here\"\n",
    "    \n",
    "\n",
    "    '''\n",
    "    Task: Train the model using method fit() from the model with the parameters:X_train, y_train, epochs=epochNo, batch_size=batchSize, verbose=0\n",
    "    '''\n",
    "    \"Add your code here\"\n",
    "\n",
    "\n",
    "    '''\n",
    "    Task: Predict the output of the test set using method predict() from the model\n",
    "    '''\n",
    "    predictions = \"Add your code here\"\n",
    "    \n",
    "\n",
    "    # Generate class labels based on predictions with a threshold of 0.5\n",
    "    y_preds = (predictions > 0.5)*1\n",
    "\n",
    "    '''\n",
    "    Task: Evaluate the model using method evaluate() from the model with the test set and verbose being 0 (You also can try verbose =1,2, or 3 to see the output difference)\n",
    "    '''\n",
    "    scores = \"Add your code here\"\n",
    "\n",
    "\n",
    "    print('The evaluation scores are {}'.format(scores))\n",
    "    \n",
    "    # Save a trained model\n",
    "    model.save(\"model.h5\")\n",
    "\n",
    "    from tensorflow.keras.models import load_model\n",
    "\n",
    "    # Load a pre-trained model named 'model.h5' in the current directory\n",
    "    loaded_model = load_model ('model.h5')\n",
    "    \n",
    "    # Display the properties of this loaded model\n",
    "    loaded_model.summary()\n",
    "else: print (\"invalid model option\")\n"
   ]
  },
  {
   "cell_type": "code",
   "execution_count": 13,
   "id": "6638a4ac",
   "metadata": {
    "id": "6638a4ac"
   },
   "outputs": [],
   "source": [
    "# import metrics from sklearn for calculation of evaluation metrics, such as accuracy, precision, recall and f1-score\n",
    "from sklearn import metrics"
   ]
  },
  {
   "cell_type": "code",
   "execution_count": null,
   "id": "c8c9bae4",
   "metadata": {
    "id": "c8c9bae4"
   },
   "outputs": [],
   "source": [
    "# Calculate accuracy of test set using method accuracy_score()\n",
    "'''\n",
    "Task: calcualte accuracy of test set using method accuracy_score() from metrics\n",
    "'''\n",
    "accuracy_test = \"Add your code here\"\n",
    "\n",
    "print (accuracy_test)"
   ]
  },
  {
   "cell_type": "code",
   "execution_count": null,
   "id": "954ff715",
   "metadata": {
    "colab": {
     "base_uri": "https://localhost:8080/"
    },
    "executionInfo": {
     "elapsed": 12,
     "status": "ok",
     "timestamp": 1689849944920,
     "user": {
      "displayName": "Mingshan Jia",
      "userId": "05917314885843876736"
     },
     "user_tz": -600
    },
    "id": "954ff715",
    "outputId": "6b9e7b6e-7d7d-4ae4-9b23-70bfc4fd16cc"
   },
   "outputs": [],
   "source": [
    "# Calculate precision of test set using method presion_score() from metrics\n",
    "'''\n",
    "Task: Calculate precision of test set using method presion_score() from metrics\n",
    "'''\n",
    "precision_test = \"Add your code here\"\n",
    "\n",
    "print(precision_test)"
   ]
  },
  {
   "cell_type": "code",
   "execution_count": null,
   "id": "1c4b79bd",
   "metadata": {
    "id": "1c4b79bd"
   },
   "outputs": [],
   "source": [
    "# Calculate recall of test set using method recall_score()\n",
    "'''\n",
    "Task: Calculate recall of test set using method recall_score() from metrics\n",
    "'''\n",
    "recall_test = \"Add your code here\"\n",
    "\n",
    "print(recall_test)"
   ]
  },
  {
   "cell_type": "code",
   "execution_count": null,
   "id": "7e649d22",
   "metadata": {
    "id": "7e649d22"
   },
   "outputs": [],
   "source": [
    "# Calculate f1 score of test set using method f1_score()\n",
    "'''\n",
    "Task: Calculate f1 score of test set using method f1_score() from metrics\n",
    "'''\n",
    "f1_score_test = \"Add your code here\"\n",
    "\n",
    "print(f1_score_test)"
   ]
  },
  {
   "cell_type": "code",
   "execution_count": 26,
   "id": "95e338cc",
   "metadata": {
    "colab": {
     "base_uri": "https://localhost:8080/",
     "height": 405
    },
    "executionInfo": {
     "elapsed": 485,
     "status": "ok",
     "timestamp": 1689850276323,
     "user": {
      "displayName": "Mingshan Jia",
      "userId": "05917314885843876736"
     },
     "user_tz": -600
    },
    "id": "95e338cc",
    "outputId": "873af1cc-1415-4fbd-e33e-7294b4170e1f"
   },
   "outputs": [
    {
     "data": {
      "text/plain": [
       "<sklearn.metrics._plot.confusion_matrix.ConfusionMatrixDisplay at 0x23df7708e50>"
      ]
     },
     "execution_count": 26,
     "metadata": {},
     "output_type": "execute_result"
    },
    {
     "data": {
      "image/png": "[encoded data removed]",
      "text/plain": [
       "<Figure size 500x400 with 2 Axes>"
      ]
     },
     "metadata": {
      "needs_background": "light"
     },
     "output_type": "display_data"
    }
   ],
   "source": [
    "# Display the confusion matrix and import required package\n",
    "\n",
    "import matplotlib.pyplot as plt\n",
    "from sklearn.metrics import ConfusionMatrixDisplay,confusion_matrix\n",
    "\n",
    "fig, ax = plt.subplots(figsize = (5,4), dpi = 100)\n",
    "cm = confusion_matrix(y_test, y_preds)\n",
    "cmp = ConfusionMatrixDisplay(cm, display_labels = [\"Positive\", \"Negative\"])\n",
    "cmp.plot(ax=ax)"
   ]
  },
  {
   "cell_type": "code",
   "execution_count": 27,
   "id": "5d0f84be",
   "metadata": {
    "colab": {
     "base_uri": "https://localhost:8080/"
    },
    "executionInfo": {
     "elapsed": 314,
     "status": "ok",
     "timestamp": 1689850281200,
     "user": {
      "displayName": "Mingshan Jia",
      "userId": "05917314885843876736"
     },
     "user_tz": -600
    },
    "id": "5d0f84be",
    "outputId": "0c7b671f-5fd9-4fa4-d290-02f1337477f1"
   },
   "outputs": [
    {
     "name": "stdout",
     "output_type": "stream",
     "text": [
      "              precision    recall  f1-score   support\n",
      "\n",
      "           0       0.67      0.92      0.77        98\n",
      "           1       0.53      0.17      0.25        54\n",
      "\n",
      "    accuracy                           0.65       152\n",
      "   macro avg       0.60      0.54      0.51       152\n",
      "weighted avg       0.62      0.65      0.59       152\n",
      "\n"
     ]
    }
   ],
   "source": [
    "# Display the evaluation report\n",
    "print(metrics.classification_report(y_test, y_preds))"
   ]
  },
  {
   "cell_type": "markdown",
   "id": "c30d464d",
   "metadata": {
    "id": "c30d464d"
   },
   "source": [
    "### Predict the class for the data samples in the future sample set\n"
   ]
  },
  {
   "cell_type": "markdown",
   "id": "8185f508",
   "metadata": {
    "id": "8185f508"
   },
   "source": [
    "Use the loaded model (loaded_model) and futureSample_data to simulate a real-world application scenario"
   ]
  },
  {
   "cell_type": "code",
   "execution_count": 31,
   "id": "7dc4e600",
   "metadata": {},
   "outputs": [],
   "source": [
    "if (model_option ==1):\n",
    "    # import joblib if it has not been imported before by uncommented the next line\n",
    "    # import joblib\n",
    "    \n",
    "    # Load a pre-trained model named 'my_model.pkl\n",
    "    loaded_model = joblib.load('my_model.pkl')   \n",
    "elif (model_option==2):\n",
    "    from tensorflow.keras.models import load_model\n",
    "\n",
    "    # Load a pre-trained model named 'model.h5' in the current directory\n",
    "    loaded_model = load_model ('model.h5')\n",
    "    \n",
    "    # Display the properties of this loaded model\n",
    "    loaded_model.summary()\n",
    "else: print(\"Invalid model option\")"
   ]
  },
  {
   "cell_type": "code",
   "execution_count": null,
   "id": "59725999",
   "metadata": {
    "id": "59725999"
   },
   "outputs": [],
   "source": [
    "if (model_option == 1):\n",
    "    '''\n",
    "    Task: predict the output for the future samples using method predict() from the loaded model, loaded_model\n",
    "    '''\n",
    "    y_preds_val = \"Add your code here\"\n",
    "    \n",
    "    print(\"The predicated classes are {} vs the true classes are {}\".format(y_preds_val, futureSample_label.values))\n",
    "else:\n",
    "    '''\n",
    "    Task: predict the output for the future samples using method predict() from the loaded model, loaded_model\n",
    "    '''\n",
    "    predictions_val = \"Add your code here\"\n",
    "\n",
    "    # Generate the class labels based on predictions_val with a threshold of 0.5\n",
    "    y_preds_val = (predictions_val > 0.5)*1     # threshold is 0.5\n",
    "    print(\"The predicated classes are {} vs the true classes are {}\".format(y_preds_val, futureSample_label.values))"
   ]
  },
  {
   "cell_type": "code",
   "execution_count": null,
   "id": "b9a7337d",
   "metadata": {
    "id": "b9a7337d"
   },
   "outputs": [],
   "source": []
  },
  {
   "cell_type": "code",
   "execution_count": null,
   "id": "8d3f0a6c",
   "metadata": {
    "id": "8d3f0a6c"
   },
   "outputs": [],
   "source": []
  }
 ],
 "metadata": {
  "colab": {
   "provenance": []
  },
  "kernelspec": {
   "display_name": "Python 3 (ipykernel)",
   "language": "python",
   "name": "python3"
  },
  "language_info": {
   "codemirror_mode": {
    "name": "ipython",
    "version": 3
   },
   "file_extension": ".py",
   "mimetype": "text/x-python",
   "name": "python",
   "nbconvert_exporter": "python",
   "pygments_lexer": "ipython3",
   "version": "3.9.12"
  },
  "pycharm": {
   "stem_cell": {
    "cell_type": "raw",
    "metadata": {
     "collapsed": false
    },
    "source": []
   }
  },
  "vp": {
   "vp_config_version": "1.0.0",
   "vp_menu_width": 273,
   "vp_note_display": false,
   "vp_note_width": 0,
   "vp_position": {
    "width": 278
   },
   "vp_section_display": false,
   "vp_signature": "VisualPython"
  }
 },
 "nbformat": 4,
 "nbformat_minor": 5
}
