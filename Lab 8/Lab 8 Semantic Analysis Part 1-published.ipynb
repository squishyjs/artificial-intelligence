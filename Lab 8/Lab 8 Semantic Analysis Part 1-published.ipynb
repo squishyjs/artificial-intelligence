{
 "cells": [
  {
   "cell_type": "markdown",
   "metadata": {
    "id": "yfSPzLNTpJf6"
   },
   "source": [
    "# Lab 8 Semantic Analysis Part 1\n",
    "\n",
    "In this notebook, you learn how to use the follwoing techniques to do sentiment analysis:\n",
    "  * Naive Bayes\n",
    "  * Logistic regression\n",
    "  * SVM\n",
    "  * Decision tree"
   ]
  },
  {
   "cell_type": "code",
<<<<<<< HEAD
   "execution_count": null,
   "metadata": {
    "colab": {
     "base_uri": "https://localhost:8080/"
    },
    "executionInfo": {
     "elapsed": 22445,
     "status": "ok",
     "timestamp": 1696397278825,
     "user": {
      "displayName": "Hai Yan (Helen) Lu",
      "userId": "06999938304037686402"
     },
     "user_tz": -660
    },
    "id": "4GdY_u9OpKXi",
    "outputId": "8c867dfe-0bb8-4ff7-a125-56cc221c9641"
   },
   "outputs": [],
   "source": [
    "from google.colab import drive\n",
    "drive.mount('/content/drive')"
   ]
  },
  {
   "cell_type": "code",
   "execution_count": null,
   "metadata": {
    "colab": {
     "base_uri": "https://localhost:8080/"
    },
    "executionInfo": {
     "elapsed": 299,
     "status": "ok",
     "timestamp": 1696397283794,
     "user": {
      "displayName": "Hai Yan (Helen) Lu",
      "userId": "06999938304037686402"
     },
     "user_tz": -660
    },
    "id": "t6ItnbYdpM1u",
    "outputId": "8cf069c7-ae40-48d2-f8d0-8de4ba9efcec"
   },
   "outputs": [],
   "source": [
    "cd /content/drive/MyDrive/Lab2023/Lab9-2023"
   ]
  },
  {
   "cell_type": "code",
   "execution_count": null,
=======
   "execution_count": 1,
>>>>>>> a95de6a270d6199a854011f1d9fdb2b8acefdd59
   "metadata": {
    "colab": {
     "base_uri": "https://localhost:8080/"
    },
    "executionInfo": {
     "elapsed": 3770,
     "status": "ok",
     "timestamp": 1696397291709,
     "user": {
      "displayName": "Hai Yan (Helen) Lu",
      "userId": "06999938304037686402"
     },
     "user_tz": -660
    },
    "id": "IMlw6XANpJf-",
    "outputId": "0702a01f-e09d-417b-d43f-8b199af251e6"
   },
<<<<<<< HEAD
   "outputs": [],
=======
   "outputs": [
    {
     "name": "stderr",
     "output_type": "stream",
     "text": [
      "[nltk_data] Downloading package punkt to\n",
      "[nltk_data]     C:\\Users\\John\\AppData\\Roaming\\nltk_data...\n",
      "[nltk_data]   Unzipping tokenizers\\punkt.zip.\n"
     ]
    },
    {
     "data": {
      "text/plain": [
       "True"
      ]
     },
     "execution_count": 1,
     "metadata": {},
     "output_type": "execute_result"
    }
   ],
>>>>>>> a95de6a270d6199a854011f1d9fdb2b8acefdd59
   "source": [
    "from heading import *\n",
    "from nltk.tokenize import *\n",
    "import nltk\n",
    "nltk.download('punkt')"
   ]
  },
  {
   "cell_type": "code",
<<<<<<< HEAD
   "execution_count": null,
=======
   "execution_count": 2,
>>>>>>> a95de6a270d6199a854011f1d9fdb2b8acefdd59
   "metadata": {
    "executionInfo": {
     "elapsed": 827,
     "status": "ok",
     "timestamp": 1696397297587,
     "user": {
      "displayName": "Hai Yan (Helen) Lu",
      "userId": "06999938304037686402"
     },
     "user_tz": -660
    },
    "id": "1AE2VIEapJf_"
   },
   "outputs": [],
   "source": [
    "short_pos = open(\"text_data/positives.txt\",\"r\").read()\n",
    "short_neg = open(\"text_data/negatives.txt\",\"r\").read()"
   ]
  },
  {
   "cell_type": "code",
<<<<<<< HEAD
   "execution_count": null,
=======
   "execution_count": 3,
>>>>>>> a95de6a270d6199a854011f1d9fdb2b8acefdd59
   "metadata": {
    "executionInfo": {
     "elapsed": 531,
     "status": "ok",
     "timestamp": 1696397300494,
     "user": {
      "displayName": "Hai Yan (Helen) Lu",
      "userId": "06999938304037686402"
     },
     "user_tz": -660
    },
    "id": "mcxFLx_qpJgA"
   },
   "outputs": [],
   "source": [
    "short_pos_words = word_tokenize(short_pos)\n",
    "short_neg_words = word_tokenize(short_neg)"
   ]
  },
  {
   "cell_type": "code",
<<<<<<< HEAD
   "execution_count": null,
=======
   "execution_count": 4,
>>>>>>> a95de6a270d6199a854011f1d9fdb2b8acefdd59
   "metadata": {
    "executionInfo": {
     "elapsed": 300,
     "status": "ok",
     "timestamp": 1696397305377,
     "user": {
      "displayName": "Hai Yan (Helen) Lu",
      "userId": "06999938304037686402"
     },
     "user_tz": -660
    },
    "id": "fFG8pHg9pJgB"
   },
   "outputs": [],
   "source": [
    "all_words = []\n",
    "for w in short_pos_words:\n",
    "    all_words.append(w.lower())\n",
    "\n",
    "for w in short_neg_words:\n",
    "    all_words.append(w.lower())"
   ]
  },
  {
   "cell_type": "code",
<<<<<<< HEAD
   "execution_count": null,
=======
   "execution_count": 5,
>>>>>>> a95de6a270d6199a854011f1d9fdb2b8acefdd59
   "metadata": {
    "executionInfo": {
     "elapsed": 5,
     "status": "ok",
     "timestamp": 1696397308425,
     "user": {
      "displayName": "Hai Yan (Helen) Lu",
      "userId": "06999938304037686402"
     },
     "user_tz": -660
    },
    "id": "ntp59h8NpJgC"
   },
   "outputs": [],
   "source": [
    "all_words = nltk.FreqDist(all_words)"
   ]
  },
  {
   "cell_type": "code",
<<<<<<< HEAD
   "execution_count": null,
=======
   "execution_count": 6,
>>>>>>> a95de6a270d6199a854011f1d9fdb2b8acefdd59
   "metadata": {
    "colab": {
     "base_uri": "https://localhost:8080/"
    },
    "executionInfo": {
     "elapsed": 618,
     "status": "ok",
     "timestamp": 1696397311364,
     "user": {
      "displayName": "Hai Yan (Helen) Lu",
      "userId": "06999938304037686402"
     },
     "user_tz": -660
    },
    "id": "1LvFPoTzpJgD",
    "outputId": "a4f02103-15d5-49a4-ea9a-ed81e8347fd6"
   },
<<<<<<< HEAD
   "outputs": [],
=======
   "outputs": [
    {
     "name": "stdout",
     "output_type": "stream",
     "text": [
      "[('it', 4), ('this', 4), ('is', 4), ('great', 3), ('good', 3), ('not', 3), ('!', 2), ('much', 2), (',', 2), ('would', 2), ('my', 2), ('really', 2), ('the', 2), ('very', 2), ('done', 2)]\n"
     ]
    }
   ],
>>>>>>> a95de6a270d6199a854011f1d9fdb2b8acefdd59
   "source": [
    "print(all_words.most_common(15))"
   ]
  },
  {
   "cell_type": "code",
<<<<<<< HEAD
   "execution_count": null,
=======
   "execution_count": 7,
>>>>>>> a95de6a270d6199a854011f1d9fdb2b8acefdd59
   "metadata": {
    "executionInfo": {
     "elapsed": 2,
     "status": "ok",
     "timestamp": 1696397314318,
     "user": {
      "displayName": "Hai Yan (Helen) Lu",
      "userId": "06999938304037686402"
     },
     "user_tz": -660
    },
    "id": "aBIxadm_pJgE"
   },
   "outputs": [],
   "source": [
    "word_features = list(all_words.keys())[:50]"
   ]
  },
  {
   "cell_type": "code",
<<<<<<< HEAD
   "execution_count": null,
=======
   "execution_count": 8,
>>>>>>> a95de6a270d6199a854011f1d9fdb2b8acefdd59
   "metadata": {
    "executionInfo": {
     "elapsed": 481,
     "status": "ok",
     "timestamp": 1696397320085,
     "user": {
      "displayName": "Hai Yan (Helen) Lu",
      "userId": "06999938304037686402"
     },
     "user_tz": -660
    },
    "id": "NejqQN7apJgE"
   },
   "outputs": [],
   "source": [
    "documents = []\n",
    "for r in short_pos.split('\\n'):\n",
    "    documents.append( (r, \"pos\") )\n",
    "\n",
    "for r in short_neg.split('\\n'):\n",
    "    documents.append( (r, \"neg\") )"
   ]
  },
  {
   "cell_type": "code",
<<<<<<< HEAD
   "execution_count": null,
=======
   "execution_count": 9,
>>>>>>> a95de6a270d6199a854011f1d9fdb2b8acefdd59
   "metadata": {
    "executionInfo": {
     "elapsed": 289,
     "status": "ok",
     "timestamp": 1696397322752,
     "user": {
      "displayName": "Hai Yan (Helen) Lu",
      "userId": "06999938304037686402"
     },
     "user_tz": -660
    },
    "id": "gtpUzZWtpJgE"
   },
   "outputs": [],
   "source": [
    "featuresets = extract_features(documents, word_features)"
   ]
  },
  {
   "cell_type": "code",
<<<<<<< HEAD
   "execution_count": null,
=======
   "execution_count": 10,
>>>>>>> a95de6a270d6199a854011f1d9fdb2b8acefdd59
   "metadata": {
    "executionInfo": {
     "elapsed": 298,
     "status": "ok",
     "timestamp": 1696397329426,
     "user": {
      "displayName": "Hai Yan (Helen) Lu",
      "userId": "06999938304037686402"
     },
     "user_tz": -660
    },
    "id": "CsFw0iB3pJgF"
   },
   "outputs": [],
   "source": [
    "training_set = featuresets[:15]\n",
    "testing_set =  featuresets[16:]"
   ]
  },
  {
   "cell_type": "markdown",
   "metadata": {
    "id": "sGspKFwIpJgF"
   },
   "source": [
    "#### Case 1. with a Naive Bayes classifier"
   ]
  },
  {
   "cell_type": "code",
<<<<<<< HEAD
   "execution_count": null,
=======
   "execution_count": 11,
>>>>>>> a95de6a270d6199a854011f1d9fdb2b8acefdd59
   "metadata": {
    "executionInfo": {
     "elapsed": 1,
     "status": "ok",
     "timestamp": 1696397333067,
     "user": {
      "displayName": "Hai Yan (Helen) Lu",
      "userId": "06999938304037686402"
     },
     "user_tz": -660
    },
    "id": "SSsMT8fopJgF"
   },
   "outputs": [],
   "source": [
    "classifier = nltk.NaiveBayesClassifier.train(training_set)"
   ]
  },
  {
   "cell_type": "code",
<<<<<<< HEAD
   "execution_count": null,
=======
   "execution_count": 12,
>>>>>>> a95de6a270d6199a854011f1d9fdb2b8acefdd59
   "metadata": {
    "colab": {
     "base_uri": "https://localhost:8080/"
    },
    "executionInfo": {
     "elapsed": 10,
     "status": "ok",
     "timestamp": 1691060009011,
     "user": {
      "displayName": "Mingshan Jia",
      "userId": "05917314885843876736"
     },
     "user_tz": -600
    },
    "id": "Ngu2w9oupJgF",
    "outputId": "01a21eb1-4b0b-4efe-9dfa-cd22ba107156"
   },
<<<<<<< HEAD
   "outputs": [],
=======
   "outputs": [
    {
     "name": "stdout",
     "output_type": "stream",
     "text": [
      "Original Naive Bayes Algo accuracy percent: 57.14285714285714\n"
     ]
    }
   ],
>>>>>>> a95de6a270d6199a854011f1d9fdb2b8acefdd59
   "source": [
    "print(\"Original Naive Bayes Algo accuracy percent:\", (nltk.classify.accuracy(classifier, testing_set))*100)"
   ]
  },
  {
   "cell_type": "markdown",
   "metadata": {
    "id": "XrZlVt3fpJgF"
   },
   "source": [
    "Here, you can input one sentence to predict whether it is positive or negative.\n",
    "\n",
    "e.g. \"This place is nice.\"\n",
    "e.g. \"This is not good\""
   ]
  },
  {
   "cell_type": "code",
<<<<<<< HEAD
   "execution_count": null,
=======
   "execution_count": 13,
>>>>>>> a95de6a270d6199a854011f1d9fdb2b8acefdd59
   "metadata": {
    "colab": {
     "base_uri": "https://localhost:8080/",
     "height": 52
    },
    "executionInfo": {
     "elapsed": 14521,
     "status": "ok",
     "timestamp": 1696397351270,
     "user": {
      "displayName": "Hai Yan (Helen) Lu",
      "userId": "06999938304037686402"
     },
     "user_tz": -660
    },
    "id": "bTNTsoJXpJgG",
    "outputId": "f81ef152-6c2d-4de3-ba11-ca74e4ba3028"
   },
<<<<<<< HEAD
   "outputs": [],
=======
   "outputs": [
    {
     "data": {
      "text/plain": [
       "'pos'"
      ]
     },
     "execution_count": 13,
     "metadata": {},
     "output_type": "execute_result"
    }
   ],
>>>>>>> a95de6a270d6199a854011f1d9fdb2b8acefdd59
   "source": [
    "classifier.classify(word_feats(input(\"Input one sentence\")))"
   ]
  },
  {
   "cell_type": "markdown",
   "metadata": {
    "id": "e5dIPVsMpJgG"
   },
   "source": [
    "#### Case 2: with Logistic Regression"
   ]
  },
  {
   "cell_type": "code",
<<<<<<< HEAD
   "execution_count": null,
=======
   "execution_count": 14,
>>>>>>> a95de6a270d6199a854011f1d9fdb2b8acefdd59
   "metadata": {
    "executionInfo": {
     "elapsed": 291,
     "status": "ok",
     "timestamp": 1696397357057,
     "user": {
      "displayName": "Hai Yan (Helen) Lu",
      "userId": "06999938304037686402"
     },
     "user_tz": -660
    },
    "id": "XS_-7Xj-pJgG"
   },
   "outputs": [],
   "source": [
    "LogisticRegression_classifier = SklearnClassifier(LogisticRegression())"
   ]
  },
  {
   "cell_type": "code",
<<<<<<< HEAD
   "execution_count": null,
=======
   "execution_count": 15,
>>>>>>> a95de6a270d6199a854011f1d9fdb2b8acefdd59
   "metadata": {
    "executionInfo": {
     "elapsed": 2,
     "status": "ok",
     "timestamp": 1696397358929,
     "user": {
      "displayName": "Hai Yan (Helen) Lu",
      "userId": "06999938304037686402"
     },
     "user_tz": -660
    },
    "id": "kVTpl0OQpJgG"
   },
   "outputs": [],
   "source": [
    "classifier = LogisticRegression_classifier.train(training_set)"
   ]
  },
  {
   "cell_type": "code",
<<<<<<< HEAD
   "execution_count": null,
=======
   "execution_count": 16,
>>>>>>> a95de6a270d6199a854011f1d9fdb2b8acefdd59
   "metadata": {
    "colab": {
     "base_uri": "https://localhost:8080/"
    },
    "executionInfo": {
     "elapsed": 2,
     "status": "ok",
     "timestamp": 1696397360998,
     "user": {
      "displayName": "Hai Yan (Helen) Lu",
      "userId": "06999938304037686402"
     },
     "user_tz": -660
    },
    "id": "_eUVuqLapJgG",
    "outputId": "e95b2fa9-eacf-481d-fd0f-96621445e94e"
   },
<<<<<<< HEAD
   "outputs": [],
=======
   "outputs": [
    {
     "name": "stdout",
     "output_type": "stream",
     "text": [
      "LogisticRegression_classifier accuracy percent: 0.0\n"
     ]
    }
   ],
>>>>>>> a95de6a270d6199a854011f1d9fdb2b8acefdd59
   "source": [
    "print(\"LogisticRegression_classifier accuracy percent:\", (nltk.classify.accuracy(LogisticRegression_classifier, testing_set))*100)"
   ]
  },
  {
   "cell_type": "markdown",
   "metadata": {
    "id": "Aw4C13OYpJgG"
   },
   "source": [
    "Here, you can input one sentence to predict whether it is positive or negative.\n",
    "\n",
    "e.g. \"This place is nice.\"\n",
    "e.g. \"This is not good\""
   ]
  },
  {
   "cell_type": "code",
<<<<<<< HEAD
   "execution_count": null,
=======
   "execution_count": 17,
>>>>>>> a95de6a270d6199a854011f1d9fdb2b8acefdd59
   "metadata": {
    "colab": {
     "base_uri": "https://localhost:8080/",
     "height": 52
    },
    "executionInfo": {
     "elapsed": 8706,
     "status": "ok",
     "timestamp": 1696397372345,
     "user": {
      "displayName": "Hai Yan (Helen) Lu",
      "userId": "06999938304037686402"
     },
     "user_tz": -660
    },
    "id": "n_ZEfrY5pJgG",
    "outputId": "085cf93b-9083-42a2-f386-724ea40481da"
   },
<<<<<<< HEAD
   "outputs": [],
=======
   "outputs": [
    {
     "data": {
      "text/plain": [
       "'pos'"
      ]
     },
     "execution_count": 17,
     "metadata": {},
     "output_type": "execute_result"
    }
   ],
>>>>>>> a95de6a270d6199a854011f1d9fdb2b8acefdd59
   "source": [
    "classifier.classify(word_feats(input(\"Input one sentence\")))"
   ]
  },
  {
   "cell_type": "markdown",
   "metadata": {
    "id": "tNcfCdeIpJgG"
   },
   "source": [
    "#### Case 3: with Linear SVM"
   ]
  },
  {
   "cell_type": "code",
<<<<<<< HEAD
   "execution_count": null,
=======
   "execution_count": 18,
>>>>>>> a95de6a270d6199a854011f1d9fdb2b8acefdd59
   "metadata": {
    "executionInfo": {
     "elapsed": 291,
     "status": "ok",
     "timestamp": 1696397377558,
     "user": {
      "displayName": "Hai Yan (Helen) Lu",
      "userId": "06999938304037686402"
     },
     "user_tz": -660
    },
    "id": "-kmCIBzppJgH"
   },
   "outputs": [],
   "source": [
    "LinearSVC_classifier = SklearnClassifier(LinearSVC())"
   ]
  },
  {
   "cell_type": "code",
<<<<<<< HEAD
   "execution_count": null,
=======
   "execution_count": 19,
>>>>>>> a95de6a270d6199a854011f1d9fdb2b8acefdd59
   "metadata": {
    "colab": {
     "base_uri": "https://localhost:8080/"
    },
    "executionInfo": {
     "elapsed": 284,
     "status": "ok",
     "timestamp": 1696397379613,
     "user": {
      "displayName": "Hai Yan (Helen) Lu",
      "userId": "06999938304037686402"
     },
     "user_tz": -660
    },
    "id": "d6k3pSFmpJgH",
    "outputId": "685360ae-a2c3-4328-b888-b96261e3b06d"
   },
<<<<<<< HEAD
   "outputs": [],
=======
   "outputs": [
    {
     "data": {
      "text/plain": [
       "<SklearnClassifier(LinearSVC())>"
      ]
     },
     "execution_count": 19,
     "metadata": {},
     "output_type": "execute_result"
    }
   ],
>>>>>>> a95de6a270d6199a854011f1d9fdb2b8acefdd59
   "source": [
    "LinearSVC_classifier.train(training_set)"
   ]
  },
  {
   "cell_type": "code",
<<<<<<< HEAD
   "execution_count": null,
=======
   "execution_count": 20,
>>>>>>> a95de6a270d6199a854011f1d9fdb2b8acefdd59
   "metadata": {
    "colab": {
     "base_uri": "https://localhost:8080/"
    },
    "executionInfo": {
     "elapsed": 561,
     "status": "ok",
     "timestamp": 1696397382570,
     "user": {
      "displayName": "Hai Yan (Helen) Lu",
      "userId": "06999938304037686402"
     },
     "user_tz": -660
    },
    "id": "sHRu8BmQpJgH",
    "outputId": "9a668802-fa6a-472d-9a25-c1c5c92b6051"
   },
<<<<<<< HEAD
   "outputs": [],
=======
   "outputs": [
    {
     "name": "stdout",
     "output_type": "stream",
     "text": [
      "LinearSVC_classifier accuracy percent: 0.0\n"
     ]
    }
   ],
>>>>>>> a95de6a270d6199a854011f1d9fdb2b8acefdd59
   "source": [
    "print(\"LinearSVC_classifier accuracy percent:\", (nltk.classify.accuracy(LinearSVC_classifier, testing_set))*100)"
   ]
  },
  {
   "cell_type": "code",
<<<<<<< HEAD
   "execution_count": null,
=======
   "execution_count": 21,
>>>>>>> a95de6a270d6199a854011f1d9fdb2b8acefdd59
   "metadata": {
    "colab": {
     "base_uri": "https://localhost:8080/",
     "height": 52
    },
    "executionInfo": {
     "elapsed": 14636,
     "status": "ok",
     "timestamp": 1696397399715,
     "user": {
      "displayName": "Hai Yan (Helen) Lu",
      "userId": "06999938304037686402"
     },
     "user_tz": -660
    },
    "id": "5Bph010tpJgH",
    "outputId": "b0467243-b441-4444-d144-361c58491cab"
   },
<<<<<<< HEAD
   "outputs": [],
=======
   "outputs": [
    {
     "data": {
      "text/plain": [
       "'pos'"
      ]
     },
     "execution_count": 21,
     "metadata": {},
     "output_type": "execute_result"
    }
   ],
>>>>>>> a95de6a270d6199a854011f1d9fdb2b8acefdd59
   "source": [
    "LinearSVC_classifier.classify(word_feats(input(\"Input one sentence\")))"
   ]
  },
  {
   "cell_type": "markdown",
   "metadata": {
    "id": "ezJ3op5MpJgH"
   },
   "source": [
    "#### Case 4: with Decision tree classifier"
   ]
  },
  {
   "cell_type": "code",
<<<<<<< HEAD
   "execution_count": null,
=======
   "execution_count": 22,
>>>>>>> a95de6a270d6199a854011f1d9fdb2b8acefdd59
   "metadata": {
    "executionInfo": {
     "elapsed": 522,
     "status": "ok",
     "timestamp": 1696397403688,
     "user": {
      "displayName": "Hai Yan (Helen) Lu",
      "userId": "06999938304037686402"
     },
     "user_tz": -660
    },
    "id": "GKoVENrupJgH"
   },
   "outputs": [],
   "source": [
    "DecisionTree_classifier = SklearnClassifier(DecisionTreeClassifier())"
   ]
  },
  {
   "cell_type": "code",
<<<<<<< HEAD
   "execution_count": null,
=======
   "execution_count": 23,
>>>>>>> a95de6a270d6199a854011f1d9fdb2b8acefdd59
   "metadata": {
    "colab": {
     "base_uri": "https://localhost:8080/"
    },
    "executionInfo": {
     "elapsed": 1,
     "status": "ok",
     "timestamp": 1696397404684,
     "user": {
      "displayName": "Hai Yan (Helen) Lu",
      "userId": "06999938304037686402"
     },
     "user_tz": -660
    },
    "id": "oo25mUF7pJgH",
    "outputId": "d056f185-6f68-40f3-e37a-f321b3c608fa"
   },
<<<<<<< HEAD
   "outputs": [],
=======
   "outputs": [
    {
     "data": {
      "text/plain": [
       "<SklearnClassifier(DecisionTreeClassifier())>"
      ]
     },
     "execution_count": 23,
     "metadata": {},
     "output_type": "execute_result"
    }
   ],
>>>>>>> a95de6a270d6199a854011f1d9fdb2b8acefdd59
   "source": [
    "DecisionTree_classifier.train(training_set)"
   ]
  },
  {
   "cell_type": "code",
<<<<<<< HEAD
   "execution_count": null,
=======
   "execution_count": 24,
>>>>>>> a95de6a270d6199a854011f1d9fdb2b8acefdd59
   "metadata": {
    "colab": {
     "base_uri": "https://localhost:8080/"
    },
    "executionInfo": {
     "elapsed": 292,
     "status": "ok",
     "timestamp": 1696397406637,
     "user": {
      "displayName": "Hai Yan (Helen) Lu",
      "userId": "06999938304037686402"
     },
     "user_tz": -660
    },
    "id": "DbMz9PDDpJgH",
    "outputId": "3b4a0db1-ea6d-466c-b98a-65d13ba3b38a"
   },
<<<<<<< HEAD
   "outputs": [],
=======
   "outputs": [
    {
     "name": "stdout",
     "output_type": "stream",
     "text": [
      "DecisionTree_classifier accuracy percent: 0.0\n"
     ]
    }
   ],
>>>>>>> a95de6a270d6199a854011f1d9fdb2b8acefdd59
   "source": [
    "print(\"DecisionTree_classifier accuracy percent:\", (nltk.classify.accuracy(DecisionTree_classifier, testing_set))*100)"
   ]
  },
  {
   "cell_type": "code",
<<<<<<< HEAD
   "execution_count": null,
=======
   "execution_count": 25,
>>>>>>> a95de6a270d6199a854011f1d9fdb2b8acefdd59
   "metadata": {
    "colab": {
     "base_uri": "https://localhost:8080/",
     "height": 52
    },
    "executionInfo": {
     "elapsed": 8567,
     "status": "ok",
     "timestamp": 1696397417358,
     "user": {
      "displayName": "Hai Yan (Helen) Lu",
      "userId": "06999938304037686402"
     },
     "user_tz": -660
    },
    "id": "zmYTFmuZpJgI",
    "outputId": "49259c3f-7a8d-4c45-ec70-e9c33626e289"
   },
<<<<<<< HEAD
   "outputs": [],
=======
   "outputs": [
    {
     "data": {
      "text/plain": [
       "'pos'"
      ]
     },
     "execution_count": 25,
     "metadata": {},
     "output_type": "execute_result"
    }
   ],
>>>>>>> a95de6a270d6199a854011f1d9fdb2b8acefdd59
   "source": [
    "DecisionTree_classifier.classify(word_feats(input(\"Input one sentence\")))"
   ]
  }
 ],
 "metadata": {
  "colab": {
   "provenance": []
  },
  "kernelspec": {
<<<<<<< HEAD
   "display_name": "Python 3 (ipykernel)",
=======
   "display_name": "Python 3",
>>>>>>> a95de6a270d6199a854011f1d9fdb2b8acefdd59
   "language": "python",
   "name": "python3"
  },
  "language_info": {
   "codemirror_mode": {
    "name": "ipython",
    "version": 3
   },
   "file_extension": ".py",
   "mimetype": "text/x-python",
   "name": "python",
   "nbconvert_exporter": "python",
   "pygments_lexer": "ipython3",
<<<<<<< HEAD
   "version": "3.9.12"
=======
   "version": "3.11.9"
>>>>>>> a95de6a270d6199a854011f1d9fdb2b8acefdd59
  }
 },
 "nbformat": 4,
 "nbformat_minor": 1
}
