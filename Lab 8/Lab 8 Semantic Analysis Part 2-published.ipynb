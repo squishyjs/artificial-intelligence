{
 "cells": [
  {
   "cell_type": "markdown",
   "metadata": {
    "id": "6Tgwt8KeTcis"
   },
   "source": [
    "## Lab 8 Semantic Analysis Part 2\n",
    "\n",
    "In this notebok, you learn how to create an LSTM model with multiple layers, preprocess the text data, train the model, and evaluate its performance in the context of sentiment analysis. You will learn how to build an LSTM model to analyse the reviews in the dataset and classify these reviews as positive or negative sentiment. \n",
    "* Dataset used: the IMDB movie review dataset which is available in tensorflow keras datasets. The dataset contains 50,000 movie reviews, divided into 25,000 for training and 25,000 for testing, labelled as positive or negative.\n",
    "* Machine learning platform: TensorFlow and Keras library. "
   ]
  },
  {
   "cell_type": "code",
   "execution_count": 1,
   "metadata": {
    "colab": {
     "base_uri": "https://localhost:8080/"
    },
    "executionInfo": {
     "elapsed": 3121,
     "status": "ok",
     "timestamp": 1691056219784,
     "user": {
      "displayName": "Mingshan Jia",
      "userId": "05917314885843876736"
     },
     "user_tz": -600
    },
    "id": "tVhha-zHqoPv",
    "outputId": "9cf1d478-2cb1-4b89-d718-a9ca68d00abe"
   },
   "outputs": [
    {
     "name": "stderr",
     "output_type": "stream",
     "text": [
      "C:\\ProgramData\\Anaconda3\\lib\\site-packages\\scipy\\__init__.py:146: UserWarning: A NumPy version >=1.16.5 and <1.23.0 is required for this version of SciPy (detected version 1.26.0\n",
      "  warnings.warn(f\"A NumPy version >={np_minversion} and <{np_maxversion}\"\n"
     ]
    },
    {
     "name": "stdout",
     "output_type": "stream",
     "text": [
      "Loading data...\n",
      "25000 train sequences\n",
      "25000 test sequences\n"
     ]
    }
   ],
   "source": [
    "import tensorflow as tf\n",
    "from tensorflow.keras.datasets import imdb\n",
    "from tensorflow.keras.preprocessing import sequence\n",
    "\n",
    "max_features = 20000  # Consider only the top 50,000 words from the dataset\n",
    "maxlen = 500 # Truncate or pad sequences to this length\n",
    "batch_size = 32  # Number of samples processed before the model is updated\n",
    "\n",
    "print('Loading data...')\n",
    "(input_train, y_train), (input_test, y_test) = imdb.load_data(num_words=max_features)\n",
    "print(len(input_train), 'train sequences')\n",
    "print(len(input_test), 'test sequences')"
   ]
  },
  {
   "cell_type": "code",
   "execution_count": 2,
   "metadata": {
    "colab": {
     "base_uri": "https://localhost:8080/"
    },
    "executionInfo": {
     "elapsed": 401,
     "status": "ok",
     "timestamp": 1691056229046,
     "user": {
      "displayName": "Mingshan Jia",
      "userId": "05917314885843876736"
     },
     "user_tz": -600
    },
    "id": "htX1oG0tJ_UX",
    "outputId": "c8cd8745-8150-4289-ab94-c359b53c084f"
   },
   "outputs": [
    {
     "name": "stdout",
     "output_type": "stream",
     "text": [
      "Before padding:\n",
      "Length of the first training sequence:  218\n",
      "First training sequence:  [1, 14, 22, 16, 43, 530, 973, 1622, 1385, 65, 458, 4468, 66, 3941, 4, 173, 36, 256, 5, 25, 100, 43, 838, 112, 50, 670, 2, 9, 35, 480, 284, 5, 150, 4, 172, 112, 167, 2, 336, 385, 39, 4, 172, 4536, 1111, 17, 546, 38, 13, 447, 4, 192, 50, 16, 6, 147, 2025, 19, 14, 22, 4, 1920, 4613, 469, 4, 22, 71, 87, 12, 16, 43, 530, 38, 76, 15, 13, 1247, 4, 22, 17, 515, 17, 12, 16, 626, 18, 19193, 5, 62, 386, 12, 8, 316, 8, 106, 5, 4, 2223, 5244, 16, 480, 66, 3785, 33, 4, 130, 12, 16, 38, 619, 5, 25, 124, 51, 36, 135, 48, 25, 1415, 33, 6, 22, 12, 215, 28, 77, 52, 5, 14, 407, 16, 82, 10311, 8, 4, 107, 117, 5952, 15, 256, 4, 2, 7, 3766, 5, 723, 36, 71, 43, 530, 476, 26, 400, 317, 46, 7, 4, 12118, 1029, 13, 104, 88, 4, 381, 15, 297, 98, 32, 2071, 56, 26, 141, 6, 194, 7486, 18, 4, 226, 22, 21, 134, 476, 26, 480, 5, 144, 30, 5535, 18, 51, 36, 28, 224, 92, 25, 104, 4, 226, 65, 16, 38, 1334, 88, 12, 16, 283, 5, 16, 4472, 113, 103, 32, 15, 16, 5345, 19, 178, 32]\n"
     ]
    }
   ],
   "source": [
    "print(\"Before padding:\")\n",
    "print(\"Length of the first training sequence: \", len(input_train[0]))\n",
    "print(\"First training sequence: \", input_train[0])"
   ]
  },
  {
   "cell_type": "code",
   "execution_count": 3,
   "metadata": {
    "colab": {
     "base_uri": "https://localhost:8080/",
     "height": 122
    },
    "executionInfo": {
     "elapsed": 684,
     "status": "ok",
     "timestamp": 1691056231652,
     "user": {
      "displayName": "Mingshan Jia",
      "userId": "05917314885843876736"
     },
     "user_tz": -600
    },
    "id": "VHreaKZYKklD",
    "outputId": "80c61821-99a2-41cb-c0dc-0b2370a0fd95"
   },
   "outputs": [
    {
     "data": {
      "text/plain": [
       "\"? this film was just brilliant casting location scenery story direction everyone's really suited the part they played and you could just imagine being there robert ? is an amazing actor and now the same being director ? father came from the same scottish island as myself so i loved the fact there was a real connection with this film the witty remarks throughout the film were great it was just brilliant so much that i bought the film as soon as it was released for retail and would recommend it to everyone to watch and the fly fishing was amazing really cried at the end it was so sad and you know what they say if you cry at a film it must have been good and this definitely was also congratulations to the two little boy's that played the ? of norman and paul they were just brilliant children are often left out of the praising list i think because the stars that play them all grown up are such a big profile for the whole film but these children are amazing and should be praised for what they have done don't you think the whole story was so lovely because it was true and was someone's life after all that was shared with us all\""
      ]
     },
     "execution_count": 3,
     "metadata": {},
     "output_type": "execute_result"
    }
   ],
   "source": [
    "# Decode the content to words\n",
    "word_index = imdb.get_word_index()\n",
    "def decode_review(review):\n",
    "    reverse_word_index = dict([(value, key) for (key, value) in word_index.items()])\n",
    "    return ' '.join([reverse_word_index.get(i - 3, '?') for i in review])\n",
    "\n",
    "decode_review(input_train[0])"
   ]
  },
  {
   "cell_type": "code",
   "execution_count": 4,
   "metadata": {
    "colab": {
     "base_uri": "https://localhost:8080/",
     "height": 564
    },
    "executionInfo": {
     "elapsed": 26,
     "status": "ok",
     "timestamp": 1691056231653,
     "user": {
      "displayName": "Mingshan Jia",
      "userId": "05917314885843876736"
     },
     "user_tz": -600
    },
    "id": "Lq-f3hSmPJVV",
    "outputId": "e3469fe1-569b-413e-fdbe-830023dcbcbb"
   },
   "outputs": [
    {
     "data": {
      "image/png": "[encoded data removed]",
      "text/plain": [
       "<Figure size 720x432 with 1 Axes>"
      ]
     },
     "metadata": {
      "needs_background": "light"
     },
     "output_type": "display_data"
    }
   ],
   "source": [
    "import matplotlib.pyplot as plt\n",
    "\n",
    "# Get lengths of the reviews\n",
    "review_lengths = [len(review) for review in input_train]\n",
    "\n",
    "# Plot histogram\n",
    "plt.figure(figsize=(10, 6))\n",
    "plt.hist(review_lengths, bins=30)\n",
    "plt.title('Histogram of Review Lengths')\n",
    "plt.xlabel('Review Length')\n",
    "plt.ylabel('Frequency')\n",
    "plt.show()"
   ]
  },
  {
   "cell_type": "code",
   "execution_count": 5,
   "metadata": {
    "colab": {
     "base_uri": "https://localhost:8080/"
    },
    "executionInfo": {
     "elapsed": 1331,
     "status": "ok",
     "timestamp": 1691056233451,
     "user": {
      "displayName": "Mingshan Jia",
      "userId": "05917314885843876736"
     },
     "user_tz": -600
    },
    "id": "uLFWwkGYPF5Y",
    "outputId": "82ce11a5-bbac-4b03-f3d8-9f04d4fdba32"
   },
   "outputs": [
    {
     "name": "stdout",
     "output_type": "stream",
     "text": [
      "Pad sequences (samples x time)\n",
      "input_train shape: (25000, 500)\n",
      "input_test shape: (25000, 500)\n"
     ]
    }
   ],
   "source": [
    "print('Pad sequences (samples x time)')\n",
    "input_train = sequence.pad_sequences(input_train, maxlen=maxlen)\n",
    "input_test = sequence.pad_sequences(input_test, maxlen=maxlen)\n",
    "\n",
    "print('input_train shape:', input_train.shape)\n",
    "print('input_test shape:', input_test.shape)"
   ]
  },
  {
   "cell_type": "code",
   "execution_count": 6,
   "metadata": {
    "colab": {
     "base_uri": "https://localhost:8080/"
    },
    "executionInfo": {
     "elapsed": 9,
     "status": "ok",
     "timestamp": 1691056233454,
     "user": {
      "displayName": "Mingshan Jia",
      "userId": "05917314885843876736"
     },
     "user_tz": -600
    },
    "id": "BWCL4jPKL1Sd",
    "outputId": "63f048ba-3628-45b0-8369-c327cc3b2f2c"
   },
   "outputs": [
    {
     "name": "stdout",
     "output_type": "stream",
     "text": [
      "\n",
      "After padding:\n",
      "Length of the first training sequence:  500\n",
      "First training sequence:  [    0     0     0     0     0     0     0     0     0     0     0     0\n",
      "     0     0     0     0     0     0     0     0     0     0     0     0\n",
      "     0     0     0     0     0     0     0     0     0     0     0     0\n",
      "     0     0     0     0     0     0     0     0     0     0     0     0\n",
      "     0     0     0     0     0     0     0     0     0     0     0     0\n",
      "     0     0     0     0     0     0     0     0     0     0     0     0\n",
      "     0     0     0     0     0     0     0     0     0     0     0     0\n",
      "     0     0     0     0     0     0     0     0     0     0     0     0\n",
      "     0     0     0     0     0     0     0     0     0     0     0     0\n",
      "     0     0     0     0     0     0     0     0     0     0     0     0\n",
      "     0     0     0     0     0     0     0     0     0     0     0     0\n",
      "     0     0     0     0     0     0     0     0     0     0     0     0\n",
      "     0     0     0     0     0     0     0     0     0     0     0     0\n",
      "     0     0     0     0     0     0     0     0     0     0     0     0\n",
      "     0     0     0     0     0     0     0     0     0     0     0     0\n",
      "     0     0     0     0     0     0     0     0     0     0     0     0\n",
      "     0     0     0     0     0     0     0     0     0     0     0     0\n",
      "     0     0     0     0     0     0     0     0     0     0     0     0\n",
      "     0     0     0     0     0     0     0     0     0     0     0     0\n",
      "     0     0     0     0     0     0     0     0     0     0     0     0\n",
      "     0     0     0     0     0     0     0     0     0     0     0     0\n",
      "     0     0     0     0     0     0     0     0     0     0     0     0\n",
      "     0     0     0     0     0     0     0     0     0     0     0     0\n",
      "     0     0     0     0     0     0     1    14    22    16    43   530\n",
      "   973  1622  1385    65   458  4468    66  3941     4   173    36   256\n",
      "     5    25   100    43   838   112    50   670     2     9    35   480\n",
      "   284     5   150     4   172   112   167     2   336   385    39     4\n",
      "   172  4536  1111    17   546    38    13   447     4   192    50    16\n",
      "     6   147  2025    19    14    22     4  1920  4613   469     4    22\n",
      "    71    87    12    16    43   530    38    76    15    13  1247     4\n",
      "    22    17   515    17    12    16   626    18 19193     5    62   386\n",
      "    12     8   316     8   106     5     4  2223  5244    16   480    66\n",
      "  3785    33     4   130    12    16    38   619     5    25   124    51\n",
      "    36   135    48    25  1415    33     6    22    12   215    28    77\n",
      "    52     5    14   407    16    82 10311     8     4   107   117  5952\n",
      "    15   256     4     2     7  3766     5   723    36    71    43   530\n",
      "   476    26   400   317    46     7     4 12118  1029    13   104    88\n",
      "     4   381    15   297    98    32  2071    56    26   141     6   194\n",
      "  7486    18     4   226    22    21   134   476    26   480     5   144\n",
      "    30  5535    18    51    36    28   224    92    25   104     4   226\n",
      "    65    16    38  1334    88    12    16   283     5    16  4472   113\n",
      "   103    32    15    16  5345    19   178    32]\n"
     ]
    }
   ],
   "source": [
    "# Print some sequences after padding\n",
    "print(\"\\nAfter padding:\")\n",
    "print(\"Length of the first training sequence: \", len(input_train[0]))\n",
    "print(\"First training sequence: \", input_train[0])"
   ]
  },
  {
   "cell_type": "code",
   "execution_count": 7,
   "metadata": {
    "colab": {
     "base_uri": "https://localhost:8080/"
    },
    "executionInfo": {
     "elapsed": 152585,
     "status": "ok",
     "timestamp": 1691056386453,
     "user": {
      "displayName": "Mingshan Jia",
      "userId": "05917314885843876736"
     },
     "user_tz": -600
    },
    "id": "QOOolRyxrjSY",
    "outputId": "45896d26-b64f-4c5e-c1a0-fa91a13ddd65"
   },
   "outputs": [
    {
     "name": "stdout",
     "output_type": "stream",
     "text": [
      "Epoch 1/9\n",
      "157/157 [==============================] - 78s 481ms/step - loss: 0.5987 - acc: 0.6721 - val_loss: 0.4517 - val_acc: 0.8130\n",
      "Epoch 2/9\n",
      "157/157 [==============================] - 63s 400ms/step - loss: 0.3459 - acc: 0.8602 - val_loss: 0.3453 - val_acc: 0.8550\n",
      "Epoch 3/9\n",
      "157/157 [==============================] - 31s 197ms/step - loss: 0.2542 - acc: 0.9026 - val_loss: 0.3540 - val_acc: 0.8610\n",
      "Epoch 4/9\n",
      "157/157 [==============================] - 36s 231ms/step - loss: 0.2128 - acc: 0.9204 - val_loss: 0.2856 - val_acc: 0.8876\n",
      "Epoch 5/9\n",
      "157/157 [==============================] - 39s 245ms/step - loss: 0.1787 - acc: 0.9351 - val_loss: 0.4440 - val_acc: 0.8664\n",
      "Epoch 6/9\n",
      "157/157 [==============================] - 43s 276ms/step - loss: 0.1612 - acc: 0.9436 - val_loss: 0.3181 - val_acc: 0.8762\n",
      "Epoch 7/9\n",
      "157/157 [==============================] - 47s 302ms/step - loss: 0.1289 - acc: 0.9557 - val_loss: 0.5646 - val_acc: 0.8366\n",
      "Epoch 8/9\n",
      "157/157 [==============================] - 46s 294ms/step - loss: 0.1171 - acc: 0.9610 - val_loss: 0.4455 - val_acc: 0.8364\n",
      "Epoch 9/9\n",
      "157/157 [==============================] - 47s 297ms/step - loss: 0.1041 - acc: 0.9660 - val_loss: 0.4185 - val_acc: 0.8476\n"
     ]
    }
   ],
   "source": [
    "'''\n",
    "The model will consist of an embedding layer to convert word indices into dense vectors, \n",
    "followed by an LSTM layer, and then a fully connected layer to produce the final sentiment probabilities.\n",
    "'''\n",
    "\n",
    "from tensorflow.keras.models import Sequential\n",
    "from keras.layers import SimpleRNN\n",
    "from keras.layers import LSTM, Embedding, Dense\n",
    "\n",
    "model = Sequential()\n",
    "model.add(Embedding(max_features, 32))\n",
    "model.add(LSTM(32))\n",
    "model.add(Dense(1, activation='sigmoid'))\n",
    "model.compile(optimizer='rmsprop',\n",
    "loss='binary_crossentropy',\n",
    "metrics=['acc'])\n",
    "history = model.fit(input_train, y_train,\n",
    "epochs=9,\n",
    "batch_size=128,\n",
    "validation_split=0.2)"
   ]
  },
  {
   "cell_type": "code",
   "execution_count": 8,
   "metadata": {
    "colab": {
     "base_uri": "https://localhost:8080/",
     "height": 410
    },
    "executionInfo": {
     "elapsed": 1146,
     "status": "ok",
     "timestamp": 1691056387569,
     "user": {
      "displayName": "Mingshan Jia",
      "userId": "05917314885843876736"
     },
     "user_tz": -600
    },
    "id": "yrW57hd1r8wN",
    "outputId": "674ab339-b23e-436c-b995-c3ec695f1608"
   },
   "outputs": [
    {
     "data": {
      "image/png": "[encoded data removed]",
      "text/plain": [
       "<Figure size 864x288 with 2 Axes>"
      ]
     },
     "metadata": {
      "needs_background": "light"
     },
     "output_type": "display_data"
    }
   ],
   "source": [
    "import matplotlib.pyplot as plt\n",
    "\n",
    "acc = history.history['acc']\n",
    "val_acc = history.history['val_acc']\n",
    "loss = history.history['loss']\n",
    "val_loss = history.history['val_loss']\n",
    "epochs = range(1, len(acc) + 1)\n",
    "\n",
    "fig, (ax1, ax2) = plt.subplots(1, 2, figsize=(12, 4))\n",
    "\n",
    "ax1.plot(epochs, acc, 'b', label='Training acc', linewidth=2)\n",
    "ax1.plot(epochs, val_acc, 'r', label='Validation acc', linewidth=2)\n",
    "ax1.set_title('Training and Validation Accuracy')\n",
    "ax1.set_xlabel('Epochs')\n",
    "ax1.set_ylabel('Accuracy')\n",
    "ax1.legend()\n",
    "\n",
    "ax2.plot(epochs, loss, 'b', label='Training loss', linewidth=2)\n",
    "ax2.plot(epochs, val_loss, 'r', label='Validation loss', linewidth=2)\n",
    "ax2.set_title('Training and Validation Loss')\n",
    "ax2.set_xlabel('Epochs')\n",
    "ax2.set_ylabel('Loss')\n",
    "ax2.legend()\n",
    "\n",
    "plt.show()"
   ]
  },
  {
   "cell_type": "code",
   "execution_count": 9,
   "metadata": {
    "colab": {
     "base_uri": "https://localhost:8080/"
    },
    "executionInfo": {
     "elapsed": 10341,
     "status": "ok",
     "timestamp": 1691056400338,
     "user": {
      "displayName": "Mingshan Jia",
      "userId": "05917314885843876736"
     },
     "user_tz": -600
    },
    "id": "uaAGiIw0zrV0",
    "outputId": "66ef437f-3300-4ed6-d0b0-658a3558f6a3"
   },
   "outputs": [
    {
     "name": "stdout",
     "output_type": "stream",
     "text": [
      "782/782 [==============================] - 38s 48ms/step - loss: 0.4218 - acc: 0.8465\n",
      "Test accuracy: 0.8464800119400024\n"
     ]
    }
   ],
   "source": [
    "test_loss, test_acc = model.evaluate(input_test, y_test)\n",
    "print(f'Test accuracy: {test_acc}')"
   ]
  },
  {
   "cell_type": "code",
   "execution_count": 10,
   "metadata": {
    "colab": {
     "base_uri": "https://localhost:8080/"
    },
    "executionInfo": {
     "elapsed": 1016,
     "status": "ok",
     "timestamp": 1691057962815,
     "user": {
      "displayName": "Mingshan Jia",
      "userId": "05917314885843876736"
     },
     "user_tz": -600
    },
    "id": "ddZR1JJzuOz6",
    "outputId": "8e25dfa8-554e-481c-9b25-1a16fea8b96a"
   },
   "outputs": [
    {
     "name": "stdout",
     "output_type": "stream",
     "text": [
      "1/1 [==============================] - 0s 428ms/step\n",
      "Review 101:\n",
      "? a quick glance at the premise of this film would seem to indicate just another dumb '80's inbred ? slash fest the type where sex equals death and the actors are all annoying stereotypes you actually want to die however delivers considerably more br br rather than focus on bare flesh and gore though there is a little of each no sex however the flick focuses on delivering impending dread mounting tension amidst a lovely scenic backdrop these feelings are further heightened by a cast of realistically likable characters and antagonists that are more amoral than cardboard ? of evil oh yeah george kennedy is here too and when is that not a good thing br br if you liked wrong turn then watch this to see where much of its' ? came from\n",
      "Predicted sentiment:  negative\n",
      "Actual sentiment:  negative\n",
      "\n",
      "\n",
      "1/1 [==============================] - 0s 38ms/step\n",
      "Review 102:\n",
      "? ? is the first of its kind in turkish cinema and it's way better than i expected those people who say it's neither scary nor funny have a point it's not all that great indeed but it must be kept in mind that everyone involved with the movie is rather amateur so it's basically a maiden voyage and comparing this one to other films such as the 1st class garbage propaganda this movie is pretty damn good br br one thing that must be said it deals with the ? ? life in turkey very realistically that's exactly how it goes the scenes that are meant to scare are somewhat cheap and ? most of them even if not all but that religion lesson scene made me laugh in tears and performs the best acting of this flick as a religion teacher br br it's not a waste of your time go and watch it you'll find it rather amusing especially if you know turkey enough to relate to turkish school lives\n",
      "Predicted sentiment:  negative\n",
      "Actual sentiment:  negative\n",
      "\n",
      "\n",
      "1/1 [==============================] - 0s 31ms/step\n",
      "Review 103:\n",
      "a person who just finished watching the second season of rome almost at one go and grabbed the opportunity to see what happened next this film conveniently takes off where rome ends if you find rome an abomination a foul mouthed screw fest of little historical accuracy then you might enjoy ? but if you feel rome is a good thing if you enjoy the complicated intrigue the ambiance of decadence and the work of the actors then will obviously appear to you as an overly timid superfluous and tedious soap opera with not many redeeming factors br br there are some actors who for my taste look somewhat better than these in rome i especially disliked image of cleopatra as a drug soaked sex addict there must have been a great deal of strength and dignity in that woman and the actress in suits the part much better o'toole and rampling are good and so are some others but then if you have come to know and love as the super cool bitch you'll find the depiction of her in as a tear jerking mother goose in an ? absolutely ridiculous there are supposed to be some bitchy characters in but these actresses rely heavily upon staring at the men and nothing much more you'll find no interesting female characters in this epic there's also the painfully comic whom we see as a screeching drag queen even though there is little historical evidence that he was such he's once referred to as being effeminate in his pleasures in the annals br br the interiors are rather meager and rely on clichés upon clichés big hall looks like something out of a computer game or a children's play room in an egyptian theme park there's a of really poor 3d graphics not up to 2003 standards br br the action is presented as a series of flashbacks the aged ? is reliving so we get a quick look at some historical events some of which are presented well whereas some are not an amount of time is wasted to show ? as the eternal flame of ? this affair doesn't ? for even a moment the dialog is ? and everything is seasoned with tacky tear inducing musical score whatever amount of reality the show aims to capture every last shred of it is destroyed by the dry synchronized dubbing most of the actors are non english speakers br br everything is lukewarm in this epic true there are more historical ? than in rome but dramatically speaking it's plain boring the characters lack depth and the dialog ? camera work is often reduced to static shots and lighting offers nothing to please your eye br br there's really no one to love and no one to hate in regardless of whether you liked or disliked rome there are much better films and miniseries around ancient rome the rise and fall of an empire would be one thing i recommend\n",
      "Predicted sentiment:  negative\n",
      "Actual sentiment:  negative\n",
      "\n",
      "\n",
      "1/1 [==============================] - 0s 32ms/step\n",
      "Review 104:\n",
      "? this movie really sucks sucks really really hard this movie should be in the bottom 100 but it is so bad that almost nobody has seen it to vote for her so many times that it should be at the same time of manos the hands of fate i should have him position 1 awful but the reason for which i put him 2 was for eve the girl of the town that besides some scenes of nudity besides i thought of voting for 3 but like they killed eve i returned at 2 it is that movies like this they should not be financed by anybody since not even they took to the fame or other productions to the actors main great ? ? the history of a mining ghost that kills to and after they put an end to their ? it ? because with the end they it very ugly br br final score vote 2 for the nudity and the performance of the beautiful eve\n",
      "Predicted sentiment:  negative\n",
      "Actual sentiment:  negative\n",
      "\n",
      "\n",
      "1/1 [==============================] - 0s 30ms/step\n",
      "Review 105:\n",
      "? this is one of the worst movies i have ever seen i could hardly stay awake the acting and the plot were horrible i like b movies but this movie has nothing that could make me laugh or think about ok there were two or three funny moments at the beginning so i have to give this movie 2 out of 10 if you really want to watch it watch the first 10 minutes after that you will get more and more disappointed while the movie runs\n",
      "Predicted sentiment:  negative\n",
      "Actual sentiment:  positive\n",
      "\n",
      "\n",
      "1/1 [==============================] - 0s 30ms/step\n",
      "Review 106:\n",
      "detroit yes yes i've heard these jokes a million times i'll give them credit for accurately depicting the ? of grosse pointe it couldn't get more white did you hear those lovely michigan nasal accents where the girls talk so fast you can't understand one word that comes out of their mouth nose as much as i love michigan i hated this movie br br i have never met one person from grosse pointe that i liked listen to that awful live band and that annoying and horrid background music what is that one of your gross pointe band probably wow what a great detroit scene you guys have over there funny how people from grosse pointe always say they're from detroit they're so white and rich they wish they had something to complain about br br anyway this movie blows all the way from the lame jokes about girls in ? to the terrible character development oh wait a minute you mean the entire basis for a character is that he says the f word a lot what a deep personality great job grosse ? and i love all the sexist ? like how the narrator calls the first girl who gets killed that we never even hear speak a naive b tch that's really lovely br br and those homemade masks with the marilyn manson contact lenses are really great and i love how it made perfect sense as to why the bikers came by and killed people and how their narrating master had such a obvious role in the movie the main boyfriend dude was so boring i fell asleep looking at him the three idiot guys or was it two or four how can i tell they all look and act the same were so desperately trying to make me laugh but ? and ? already got out my butt humor laughs back in 1994 and what's with the gay jokes no wonder this movie sucked everyone involved must have some minor problems with their masculinity eh boys br br the only saving grace to this film was the main girl despite what the other people on here have said she actually was a good actress teenage girls talk the way she talked they really act the way she acted her acting was very natural and believable i really thought she was a grosse pointe convenience store employee maybe she is and yeah she had big boobs most the women here do michigan is the state in the union you know in all aspects br br so those of you who think this is a representation of detroit it's not it's the suburbs of detroit they are very white and full of aimless teen angst limp yes is from one of our suburbs and 75 ? ? pants all the way lame rich kids who are mad because they have lots of money and nothing to complain about and they make bad movies too br br\n",
      "Predicted sentiment:  negative\n",
      "Actual sentiment:  negative\n",
      "\n",
      "\n"
     ]
    },
    {
     "name": "stdout",
     "output_type": "stream",
     "text": [
      "1/1 [==============================] - 0s 30ms/step\n",
      "Review 107:\n",
      "? this is a parody that means there are no characters as such they are all plain stereotypes and the movie relies completely on the quality of the jokes br br well there are quite some good jokes in this movie unfortunately they are hidden in a mass of real stupid ones if one expects all dialogues to be absurd the fun wears off br br you see there is american pie 2 my all time favorite teenager movie it contains a lot of real original characters maybe the jokes are tasteless but all the people have some kind of live for example they feel embarrassed if something embarrassing happens that is what makes the jokes themselves actually funny br br not so this movie every scene is clearly arranged as a pure parody so there are no characters at all therefore there is really no room for any sympathy too if you know the original movies you know whole scenes in advance add the fact that many jokes are not funny at all and you have this movie br br the only thing that saved me from getting completely bored where in fact the comments from some teenagers in the cinema where i was watching the film br br ah and my personal highlight of the movie was the very short appearance of melissa joan hart in one scene sigh she is just too cool she can't be real hmm worth a whole movie\n",
      "Predicted sentiment:  negative\n",
      "Actual sentiment:  negative\n",
      "\n",
      "\n",
      "1/1 [==============================] - 0s 28ms/step\n",
      "Review 108:\n",
      "? i think it's two years ago since i have seen the movie and till this day it's the worst film i have ever seen the only thing i thought after seeing this movie was that it was made for some tax reason so after all this time i finally spilled my gut and now imdb says i have to fill 10 lines with comments br br sorry you must provide at least 10 lines in your comment please return to the edit window or use the back option if this isn't a new window br br please there is nothing to say anymore br br sorry for some bad english\n",
      "Predicted sentiment:  negative\n",
      "Actual sentiment:  negative\n",
      "\n",
      "\n",
      "1/1 [==============================] - 0s 27ms/step\n",
      "Review 109:\n",
      "? passion in the desert exemplifies ? grander it is a visual narrative ? by the magnificent cinematography passion was filmed on location in the deserts of jordan egypt ? and ? br br we are in egypt ? ? a soldier is ? writer and artist jean michel venture de ? on an official mission to document measure draw and paint the cultural landmarks of the egypt its ? stupendous ruins and mysterious people br br but can you truly document majestic fractured and wild can you truly capture the essence of egypt nature man and time br br jean and ? become lost in the mesmerizing ? gold desert whose ? ? their senses br br you can't get lost in egypt there's the ? and there's the sea says the ? and soon he discovers an ancient winding cave that leads to a ? ruin br br delirious and near delusional he attempts to rest a perplexing sound ? him his eyes body and emotions become ? locked in time as he stumbles into a sensual ? experience br br a wild sleek female leopard stares back at him and their love affair begins br br a daring love affair a daring film\n",
      "Predicted sentiment:  positive\n",
      "Actual sentiment:  positive\n",
      "\n",
      "\n",
      "1/1 [==============================] - 0s 27ms/step\n",
      "Review 110:\n",
      "? i wasn't expecting a whole lot when i rented this film as a lot of independent films seem to be a bit overrated these days well hollywood films too for that matter but this movie was fantastic really great it's too bad it didn't reach a huge audience because it's just superb i really love alice's determination it really makes me look upon my life as a gift and i see how privileged i am just to have an education but all of that aside this movie really proves that a good artist can tell a good story no matter what the budget it's an excellent film and everyone should watch it they will love it and definitely learn something from it i don't have to be roger ebert to know it's one of the best movies i've seen all year and certainly one of the most truthful\n",
      "Predicted sentiment:  positive\n",
      "Actual sentiment:  positive\n",
      "\n",
      "\n"
     ]
    }
   ],
   "source": [
    "import numpy as np\n",
    "\n",
    "def decode_review(review):\n",
    "    # Remove any padding tokens\n",
    "    review = [token for token in review if token != 0]\n",
    "    reverse_word_index = dict([(value, key) for (key, value) in word_index.items()])\n",
    "    return ' '.join([reverse_word_index.get(i - 3, '?') for i in review])\n",
    "\n",
    "for i in range(100, 110):\n",
    "    # Convert the i-th review to a numpy array and expand its dimensions\n",
    "    review = np.expand_dims(input_test[i], axis=0)\n",
    "\n",
    "    # Get the prediction for the i-th review\n",
    "    prediction = model.predict(review)[0][0]\n",
    "    predicted_label = \"positive\" if prediction > 0.5 else \"negative\"\n",
    "\n",
    "    # Get the actual label\n",
    "    actual_label = \"positive\" if y_train[i] == 1 else \"negative\"\n",
    "\n",
    "    # Print the original review, the predicted result, and the actual label\n",
    "    print(f\"Review {i+1}:\")\n",
    "    print(decode_review(input_test[i]))\n",
    "    print(\"Predicted sentiment: \", predicted_label)\n",
    "    print(\"Actual sentiment: \", actual_label)\n",
    "    print(\"\\n\")"
   ]
  },
  {
   "cell_type": "code",
   "execution_count": null,
   "metadata": {
    "executionInfo": {
     "elapsed": 10,
     "status": "ok",
     "timestamp": 1691056388949,
     "user": {
      "displayName": "Mingshan Jia",
      "userId": "05917314885843876736"
     },
     "user_tz": -600
    },
    "id": "BjX4dWMPPpMC"
   },
   "outputs": [],
   "source": []
  }
 ],
 "metadata": {
  "accelerator": "GPU",
  "colab": {
   "provenance": []
  },
  "gpuClass": "standard",
  "kernelspec": {
   "display_name": "Python 3 (ipykernel)",
   "language": "python",
   "name": "python3"
  },
  "language_info": {
   "codemirror_mode": {
    "name": "ipython",
    "version": 3
   },
   "file_extension": ".py",
   "mimetype": "text/x-python",
   "name": "python",
   "nbconvert_exporter": "python",
   "pygments_lexer": "ipython3",
   "version": "3.9.12"
  }
 },
 "nbformat": 4,
 "nbformat_minor": 1
}
