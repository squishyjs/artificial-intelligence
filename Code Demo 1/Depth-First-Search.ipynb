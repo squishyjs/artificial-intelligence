{
 "cells": [
  {
   "cell_type": "code",
   "execution_count": 1,
   "metadata": {},
   "outputs": [],
   "source": [
    "# import necessary libraries\n",
    "import pandas as pd  # for data manipulation and analysis"
   ]
  },
  {
   "cell_type": "code",
   "execution_count": 2,
   "metadata": {},
   "outputs": [],
   "source": [
    "import matplotlib.pyplot as plt  # mpl used for plotting graphs and images"
   ]
  },
  {
   "cell_type": "code",
   "execution_count": null,
   "metadata": {},
   "outputs": [],
   "source": [
    "# read the csv file containing the city coordinates\n",
    "df_cities = pd.read_csv('cities_coordinates_DEMO.csv')\n",
    "print(df_cities.head())  # displays the first few rows of the dataframe, ensuring data is read successfully"
   ]
  },
  {
   "cell_type": "code",
   "execution_count": null,
   "metadata": {},
   "outputs": [],
   "source": [
    "df_matrix = pd.read_csv('cities_correlation_matrix_DEMO.csv')\n",
    "print(df_matrix)  # display the correlation matrix of cities"
   ]
  },
  {
   "cell_type": "code",
   "execution_count": null,
   "metadata": {},
   "outputs": [],
   "source": [
    "romania_map_image = plt.imread('Romania-map_DEMO.PNG')\n",
    "plt.imshow(romania_map_image)  # load and display the map image of Romania"
   ]
  },
  {
   "cell_type": "code",
   "execution_count": null,
   "metadata": {},
   "outputs": [],
   "source": [
    "'''\n",
    "Dictionary stores location of cities and their locations\n",
    "'''\n",
    "cities = {}  # initialize an empty dictionary to store city names and their coordinates\n",
    "\n",
    "# extract city nanmes and their coordinates from the dataframe\n",
    "name = df_cities[\"LocationName\"]\n",
    "locationX = df_cities[\"LocationX\"]\n",
    "locationY = df_cities[\"LocationY\"]\n",
    "\n",
    "# combine X and Y coordinates into a single iterable\n",
    "location = zip(locationX, locationY)\n",
    "\n",
    "# populate the cities dictionary with city names as keys and their coordinates as values\n",
    "for x1, x2 in zip(name, location):\n",
    "    cities.update({x1:x2})\n",
    "\n",
    "cities # Output the dictionary"
   ]
  },
  {
   "cell_type": "code",
   "execution_count": 7,
   "metadata": {},
   "outputs": [],
   "source": [
    "import networkx as nx  # library needed for creating and manipulating graphs"
   ]
  },
  {
   "cell_type": "code",
   "execution_count": null,
   "metadata": {},
   "outputs": [],
   "source": [
    "neighbours = []\n",
    "\n",
    "# iterate over each row in the correlation matrix\n",
    "# iterate over the columns to find the connections (edges of a graph) between the cities\n",
    "for i in range(df_matrix.shape[0]):\n",
    "    x = df_matrix.iloc[i, :]\n",
    "\n",
    "    relationKey = (x.iloc[0])\n",
    "\n",
    "    for j in range(1, df_matrix.shape[1]):\n",
    "        if (j < i) and (x.iloc[j] != 0):\n",
    "            temp_tuple = (relationKey, df_matrix.columns[j], x.iloc[j])\n",
    "            neighbours.append(temp_tuple)\n",
    "\n",
    "print(neighbours)  # output list of edges"
   ]
  },
  {
   "cell_type": "code",
   "execution_count": 9,
   "metadata": {},
   "outputs": [],
   "source": [
    "Graph = nx.Graph()  # create a graph and add the edges (distances in KM) to it\n",
    "\n",
    "Graph.add_weighted_edges_from(neighbours) \n",
    "\n",
    "# define the source and goal cities for the search\n",
    "source = 'Timisoara'\n",
    "\n",
    "goal = 'Hirsova'"
   ]
  },
  {
   "cell_type": "code",
   "execution_count": 10,
   "metadata": {},
   "outputs": [],
   "source": [
    "'''\n",
    "Implements a Depth-First-Search (DFS) algorithm to enumerate the shortest distance between two chosen cities: \"Arad\" and \"Bucharest\"\n",
    "'''\n",
    "from typing import Dict  # for type hinting\n",
    "from collections import deque  # dequeu for stack\n",
    "\n",
    "def dfs_path(Graph: Dict[str, Dict[str, Dict[str, int]]], initial_state: str, destination_state: str) -> tuple[list[int, None], int]:\n",
    "    \"\"\"Finds a path from initial to destination state using DFS and returns the path and its distance\"\"\"\n",
    "    stack = deque([(initial_state, [initial_state], 0)])  # initialise the stack with the start node (first city)\n",
    "    visited = set()  # initialise an empty stack to keep track of the visited nodes (cities)\n",
    "\n",
    "    while stack:\n",
    "        (vertex, path, current_distance) = stack.pop()  # pop a node from the stack\n",
    "        if vertex in visited:  # if a node has been visited, skip it)\n",
    "            continue\n",
    "        visited.add(vertex)  # mark the node as visited\n",
    "        \n",
    "        new_nodes = []  # initialise a list to store the neighbours of the current node (curr_city)\n",
    "        for element in Graph[vertex]:  # iterate over the neighbours of the current city\n",
    "            new_nodes.append((element, Graph[vertex][element]['weight']))  # add neighbour and edge weight (distance in KM) to the list\n",
    "        new_nodes.reverse()  # reverse the list to maintain the correct order in the stack\n",
    "        for neighbour, weight in new_nodes: \n",
    "            if neighbour in visited:  # if neighbour has been visited, skip it\n",
    "                continue\n",
    "            if neighbour == destination_state:  # if the neighbour is the goal, return the path and distance\n",
    "                return path + [neighbour], current_distance + weight \n",
    "            stack.append((neighbour, path + [neighbour], current_distance + weight))\n",
    "\n",
    "    return None, float('inf')  # if goal is not found, return None and infinity distance \n"
   ]
  },
  {
   "cell_type": "code",
   "execution_count": null,
   "metadata": {},
   "outputs": [],
   "source": [
    "# use the DFS algorithm to find the path and distance between the two chosen cities\n",
    "path, distance = dfs_path(Graph, source, goal)\n",
    "\n",
    "# output the result\n",
    "print(f\"The shortest path from {source} to {goal} is: {path}, with distance {int(distance)} KM\")"
   ]
  },
  {
   "cell_type": "code",
   "execution_count": null,
   "metadata": {},
   "outputs": [],
   "source": [
    "# Import deque from Python module collections. \"deque\" is a generalization of stacks and queues in Python.\n",
    "from collections import deque\n",
    "from typing import Dict\n",
    "\n",
    "def bfs_path(Graph: Dict[str, Dict[str, Dict[str, int]]], start: str, goal: str) -> tuple[list[int, None]]:\n",
    "    \"\"\"Find a path from start to goal using Breadth-First Search.\"\"\"\n",
    "    queue = deque([(start, [start])])\n",
    "    visited = set()\n",
    "\n",
    "    while queue:\n",
    "        (vertex, path) = queue.popleft()\n",
    "\n",
    "        if vertex in visited:\n",
    "            continue\n",
    "        visited.add(vertex)\n",
    "\n",
    "        for neighbour in Graph[vertex]:\n",
    "            if neighbour in visited:\n",
    "                continue\n",
    "            if neighbour == goal:\n",
    "                return path + [neighbour]\n",
    "            queue.append((neighbour, path + [neighbour]))\n",
    "    \n",
    "    return None\n",
    "\n",
    "solution = bfs_path(Graph, source, goal)\n",
    "print(f\"Using BFS, the shortest path from {source} to {goal} is: {solution}\")"
   ]
  }
 ],
 "metadata": {
  "kernelspec": {
   "display_name": "Python 3",
   "language": "python",
   "name": "python3"
  },
  "language_info": {
   "codemirror_mode": {
    "name": "ipython",
    "version": 3
   },
   "file_extension": ".py",
   "mimetype": "text/x-python",
   "name": "python",
   "nbconvert_exporter": "python",
   "pygments_lexer": "ipython3",
   "version": "3.9.12"
  }
 },
 "nbformat": 4,
 "nbformat_minor": 2
}
