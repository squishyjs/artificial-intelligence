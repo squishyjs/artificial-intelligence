{
 "cells": [
  {
   "cell_type": "code",
   "execution_count": 17,
   "metadata": {},
   "outputs": [],
   "source": [
    "import pandas as pd"
   ]
  },
  {
   "cell_type": "code",
   "execution_count": 18,
   "metadata": {},
   "outputs": [],
   "source": [
    "import matplotlib.pyplot as plt"
   ]
  },
  {
   "cell_type": "code",
   "execution_count": 11,
   "metadata": {},
   "outputs": [
    {
     "name": "stdout",
     "output_type": "stream",
     "text": [
      "  LocationName  LocationX  LocationY\n",
      "0         Arad         91        492\n",
      "1    Bucharest        400        327\n",
      "2      Craiova        253        288\n",
      "3      Drobeta        165        299\n",
      "4       Eforie        562        293\n"
     ]
    }
   ],
   "source": [
    "df_cities = pd.read_csv('cities_coordinates_DEMO.csv')\n",
    "print(df_cities.head())"
   ]
  },
  {
   "cell_type": "code",
   "execution_count": null,
   "metadata": {},
   "outputs": [],
   "source": [
    "df_matrix = pd.read_csv('cities_correlation_matrix._DEMOcsv')\n",
    "print(df_matrix)"
   ]
  },
  {
   "cell_type": "code",
   "execution_count": null,
   "metadata": {},
   "outputs": [],
   "source": [
    "romania_map_image = plt.imread('Romania-map_DEMO.PNG')\n",
    "plt.imshow(romania_map_image)"
   ]
  },
  {
   "cell_type": "code",
   "execution_count": null,
   "metadata": {},
   "outputs": [],
   "source": [
    "'''\n",
    "Dictionary stores location of cities and their locations\n",
    "'''\n",
    "cities = {}\n",
    "\n",
    "name = df_cities[\"LocationName\"]\n",
    "locationX = df_cities[\"LocationX\"]\n",
    "locationY = df_cities[\"LocationY\"]\n",
    "\n",
    "location = zip(locationX, locationY)\n",
    "\n",
    "for x1, x2 in zip(name, location):\n",
    "    cities.update({x1:x2})\n",
    "\n",
    "cities # Output the dictionary"
   ]
  },
  {
   "cell_type": "code",
   "execution_count": 21,
   "metadata": {},
   "outputs": [],
   "source": [
    "import networkx as nx"
   ]
  },
  {
   "cell_type": "code",
   "execution_count": null,
   "metadata": {},
   "outputs": [],
   "source": [
    "neighbours = []\n",
    "\n",
    "for i in range(df_matrix.shape[0]):\n",
    "    x = df_matrix.iloc[i, :]\n",
    "\n",
    "    relationKey = (x.iloc[0])\n",
    "\n",
    "    for j in range(1, df_matrix.shape[1]):\n",
    "        if (j < i) and (x.iloc[j] != 0):\n",
    "            temp_tuple = (relationKey, df_matrix.columns[j], x.iloc[j])\n",
    "            neighbours.append(temp_tuple)\n",
    "\n",
    "print(neighbours)"
   ]
  },
  {
   "cell_type": "code",
   "execution_count": 28,
   "metadata": {},
   "outputs": [],
   "source": [
    "Graph = nx.Graph()\n",
    "\n",
    "Graph.add_weighted_edges_from(neighbours)\n",
    "\n",
    "source = 'Arad'\n",
    "\n",
    "goal = 'Bucharest'"
   ]
  },
  {
   "cell_type": "code",
   "execution_count": 31,
   "metadata": {},
   "outputs": [],
   "source": [
    "'''\n",
    "Implements a Depth-First-Search (DFS) algorithm to enumerate the shortest distance between two chosen cities: \"Arad\" and \"Bucharest\"\n",
    "'''\n",
    "\n",
    "from collections import deque\n",
    "\n",
    "def dfs_path(Graph, initial_state, destination_state) -> list[int]:\n",
    "    \"\"\"Finds a path from initial to destinate state using DFS\"\"\"\n",
    "    stack = deque([(initial_state, [initial_state])])\n",
    "    visited = set()\n",
    "\n",
    "    while stack:\n",
    "        (vertex, path) = stack.pop()\n",
    "        if vertex in visited:\n",
    "            continue\n",
    "        visited.add(vertex)\n",
    "\n",
    "        new_nodes = []\n",
    "        for element in Graph[vertex]:\n",
    "            new_nodes.append(element)\n",
    "        new_nodes.reverse()\n",
    "        for neighbour in new_nodes:\n",
    "            if neighbour in visited:\n",
    "                continue\n",
    "            if neighbour == destination_state:\n",
    "                return path + [neighbour]\n",
    "            stack.append((neighbour, path + [neighbour]))\n",
    "\n",
    "    return None"
   ]
  },
  {
   "cell_type": "code",
   "execution_count": 33,
   "metadata": {},
   "outputs": [
    {
     "name": "stdout",
     "output_type": "stream",
     "text": [
      "Path from the source node to the destination node using DFS is:  ['Arad', 'Sibiu', 'Fagaras', 'Bucharest']\n"
     ]
    }
   ],
   "source": [
    "path = dfs_path(Graph, source, goal)\n",
    "\n",
    "print(\"Path from the source node to the destination node using DFS is: \", path)"
   ]
  }
 ],
 "metadata": {
  "kernelspec": {
   "display_name": "Python 3",
   "language": "python",
   "name": "python3"
  },
  "language_info": {
   "codemirror_mode": {
    "name": "ipython",
    "version": 3
   },
   "file_extension": ".py",
   "mimetype": "text/x-python",
   "name": "python",
   "nbconvert_exporter": "python",
   "pygments_lexer": "ipython3",
   "version": "3.9.12"
  }
 },
 "nbformat": 4,
 "nbformat_minor": 2
}
